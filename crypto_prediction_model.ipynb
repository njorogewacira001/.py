{
  "cells": [
    {
      "cell_type": "markdown",
      "metadata": {
        "id": "view-in-github",
        "colab_type": "text"
      },
      "source": [
        "<a href=\"https://colab.research.google.com/github/njorogewacira001/.py/blob/main/crypto_prediction_model.ipynb\" target=\"_parent\"><img src=\"https://colab.research.google.com/assets/colab-badge.svg\" alt=\"Open In Colab\"/></a>"
      ]
    },
    {
      "cell_type": "code",
      "execution_count": 44,
      "metadata": {
        "colab": {
          "base_uri": "https://localhost:8080/"
        },
        "id": "0GE6FLp2nQgR",
        "outputId": "4270cc18-74d6-460d-cf1e-7d3bcdd22e74"
      },
      "outputs": [
        {
          "output_type": "stream",
          "name": "stdout",
          "text": [
            "imported all libraries to use in price prediction\n"
          ]
        }
      ],
      "source": [
        "from google.colab import files\n",
        "import numpy as np\n",
        "import pandas as pd\n",
        "import os\n",
        "import tensorflow as tf\n",
        "import seaborn as sns\n",
        "import matplotlib.pyplot as plt\n",
        "from sklearn.model_selection import train_test_split\n",
        "from sklearn.neighbors import KNeighborsClassifier\n",
        "from sklearn.metrics import confusion_matrix, accuracy_score\n",
        "from sklearn.svm import SVC\n",
        "from sklearn.tree import DecisionTreeClassifier\n",
        "from sklearn.ensemble import RandomForestClassifier\n",
        "from sklearn.preprocessing import LabelEncoder\n",
        "from mpl_toolkits.mplot3d import Axes3D\n",
        "from sklearn.preprocessing import MinMaxScaler\n",
        "import matplotlib.pyplot as plt\n",
        "from sklearn.metrics import mean_squared_error\n",
        "from sklearn.metrics import accuracy_score\n",
        "from keras.models import Sequential\n",
        "from keras.layers import LSTM, Dense, Dropout\n",
        "from keras.callbacks import EarlyStopping\n",
        "print('imported all libraries to use in price prediction')\n"
      ]
    },
    {
      "cell_type": "code",
      "execution_count": 2,
      "metadata": {
        "id": "WKl_tgqvy91L"
      },
      "outputs": [],
      "source": [
        "# Dataset Information\n",
        "# Add a comment with information about the dataset source\n",
        "# Dataset source: https://www.kaggle.com/datasets/sudalairajkumar/cryptocurrency-historical-prices-coingecko\n",
        "# Description: This dataset contains historical cryptocurrency prices from CoinGecko."
      ]
    },
    {
      "cell_type": "code",
      "execution_count": 3,
      "metadata": {
        "colab": {
          "base_uri": "https://localhost:8080/",
          "height": 73
        },
        "id": "RGOr-LyExO-g",
        "outputId": "7b71874b-8738-40d7-df87-73f994dee583"
      },
      "outputs": [
        {
          "output_type": "display_data",
          "data": {
            "text/plain": [
              "<IPython.core.display.HTML object>"
            ],
            "text/html": [
              "\n",
              "     <input type=\"file\" id=\"files-fd188a50-23a8-4cbf-b814-85f6551d65bf\" name=\"files[]\" multiple disabled\n",
              "        style=\"border:none\" />\n",
              "     <output id=\"result-fd188a50-23a8-4cbf-b814-85f6551d65bf\">\n",
              "      Upload widget is only available when the cell has been executed in the\n",
              "      current browser session. Please rerun this cell to enable.\n",
              "      </output>\n",
              "      <script>// Copyright 2017 Google LLC\n",
              "//\n",
              "// Licensed under the Apache License, Version 2.0 (the \"License\");\n",
              "// you may not use this file except in compliance with the License.\n",
              "// You may obtain a copy of the License at\n",
              "//\n",
              "//      http://www.apache.org/licenses/LICENSE-2.0\n",
              "//\n",
              "// Unless required by applicable law or agreed to in writing, software\n",
              "// distributed under the License is distributed on an \"AS IS\" BASIS,\n",
              "// WITHOUT WARRANTIES OR CONDITIONS OF ANY KIND, either express or implied.\n",
              "// See the License for the specific language governing permissions and\n",
              "// limitations under the License.\n",
              "\n",
              "/**\n",
              " * @fileoverview Helpers for google.colab Python module.\n",
              " */\n",
              "(function(scope) {\n",
              "function span(text, styleAttributes = {}) {\n",
              "  const element = document.createElement('span');\n",
              "  element.textContent = text;\n",
              "  for (const key of Object.keys(styleAttributes)) {\n",
              "    element.style[key] = styleAttributes[key];\n",
              "  }\n",
              "  return element;\n",
              "}\n",
              "\n",
              "// Max number of bytes which will be uploaded at a time.\n",
              "const MAX_PAYLOAD_SIZE = 100 * 1024;\n",
              "\n",
              "function _uploadFiles(inputId, outputId) {\n",
              "  const steps = uploadFilesStep(inputId, outputId);\n",
              "  const outputElement = document.getElementById(outputId);\n",
              "  // Cache steps on the outputElement to make it available for the next call\n",
              "  // to uploadFilesContinue from Python.\n",
              "  outputElement.steps = steps;\n",
              "\n",
              "  return _uploadFilesContinue(outputId);\n",
              "}\n",
              "\n",
              "// This is roughly an async generator (not supported in the browser yet),\n",
              "// where there are multiple asynchronous steps and the Python side is going\n",
              "// to poll for completion of each step.\n",
              "// This uses a Promise to block the python side on completion of each step,\n",
              "// then passes the result of the previous step as the input to the next step.\n",
              "function _uploadFilesContinue(outputId) {\n",
              "  const outputElement = document.getElementById(outputId);\n",
              "  const steps = outputElement.steps;\n",
              "\n",
              "  const next = steps.next(outputElement.lastPromiseValue);\n",
              "  return Promise.resolve(next.value.promise).then((value) => {\n",
              "    // Cache the last promise value to make it available to the next\n",
              "    // step of the generator.\n",
              "    outputElement.lastPromiseValue = value;\n",
              "    return next.value.response;\n",
              "  });\n",
              "}\n",
              "\n",
              "/**\n",
              " * Generator function which is called between each async step of the upload\n",
              " * process.\n",
              " * @param {string} inputId Element ID of the input file picker element.\n",
              " * @param {string} outputId Element ID of the output display.\n",
              " * @return {!Iterable<!Object>} Iterable of next steps.\n",
              " */\n",
              "function* uploadFilesStep(inputId, outputId) {\n",
              "  const inputElement = document.getElementById(inputId);\n",
              "  inputElement.disabled = false;\n",
              "\n",
              "  const outputElement = document.getElementById(outputId);\n",
              "  outputElement.innerHTML = '';\n",
              "\n",
              "  const pickedPromise = new Promise((resolve) => {\n",
              "    inputElement.addEventListener('change', (e) => {\n",
              "      resolve(e.target.files);\n",
              "    });\n",
              "  });\n",
              "\n",
              "  const cancel = document.createElement('button');\n",
              "  inputElement.parentElement.appendChild(cancel);\n",
              "  cancel.textContent = 'Cancel upload';\n",
              "  const cancelPromise = new Promise((resolve) => {\n",
              "    cancel.onclick = () => {\n",
              "      resolve(null);\n",
              "    };\n",
              "  });\n",
              "\n",
              "  // Wait for the user to pick the files.\n",
              "  const files = yield {\n",
              "    promise: Promise.race([pickedPromise, cancelPromise]),\n",
              "    response: {\n",
              "      action: 'starting',\n",
              "    }\n",
              "  };\n",
              "\n",
              "  cancel.remove();\n",
              "\n",
              "  // Disable the input element since further picks are not allowed.\n",
              "  inputElement.disabled = true;\n",
              "\n",
              "  if (!files) {\n",
              "    return {\n",
              "      response: {\n",
              "        action: 'complete',\n",
              "      }\n",
              "    };\n",
              "  }\n",
              "\n",
              "  for (const file of files) {\n",
              "    const li = document.createElement('li');\n",
              "    li.append(span(file.name, {fontWeight: 'bold'}));\n",
              "    li.append(span(\n",
              "        `(${file.type || 'n/a'}) - ${file.size} bytes, ` +\n",
              "        `last modified: ${\n",
              "            file.lastModifiedDate ? file.lastModifiedDate.toLocaleDateString() :\n",
              "                                    'n/a'} - `));\n",
              "    const percent = span('0% done');\n",
              "    li.appendChild(percent);\n",
              "\n",
              "    outputElement.appendChild(li);\n",
              "\n",
              "    const fileDataPromise = new Promise((resolve) => {\n",
              "      const reader = new FileReader();\n",
              "      reader.onload = (e) => {\n",
              "        resolve(e.target.result);\n",
              "      };\n",
              "      reader.readAsArrayBuffer(file);\n",
              "    });\n",
              "    // Wait for the data to be ready.\n",
              "    let fileData = yield {\n",
              "      promise: fileDataPromise,\n",
              "      response: {\n",
              "        action: 'continue',\n",
              "      }\n",
              "    };\n",
              "\n",
              "    // Use a chunked sending to avoid message size limits. See b/62115660.\n",
              "    let position = 0;\n",
              "    do {\n",
              "      const length = Math.min(fileData.byteLength - position, MAX_PAYLOAD_SIZE);\n",
              "      const chunk = new Uint8Array(fileData, position, length);\n",
              "      position += length;\n",
              "\n",
              "      const base64 = btoa(String.fromCharCode.apply(null, chunk));\n",
              "      yield {\n",
              "        response: {\n",
              "          action: 'append',\n",
              "          file: file.name,\n",
              "          data: base64,\n",
              "        },\n",
              "      };\n",
              "\n",
              "      let percentDone = fileData.byteLength === 0 ?\n",
              "          100 :\n",
              "          Math.round((position / fileData.byteLength) * 100);\n",
              "      percent.textContent = `${percentDone}% done`;\n",
              "\n",
              "    } while (position < fileData.byteLength);\n",
              "  }\n",
              "\n",
              "  // All done.\n",
              "  yield {\n",
              "    response: {\n",
              "      action: 'complete',\n",
              "    }\n",
              "  };\n",
              "}\n",
              "\n",
              "scope.google = scope.google || {};\n",
              "scope.google.colab = scope.google.colab || {};\n",
              "scope.google.colab._files = {\n",
              "  _uploadFiles,\n",
              "  _uploadFilesContinue,\n",
              "};\n",
              "})(self);\n",
              "</script> "
            ]
          },
          "metadata": {}
        },
        {
          "output_type": "stream",
          "name": "stdout",
          "text": [
            "Saving ethereum.csv to ethereum (1).csv\n"
          ]
        }
      ],
      "source": [
        "# Upload the CSV file\n",
        "uploaded = files.upload()"
      ]
    },
    {
      "cell_type": "code",
      "execution_count": 4,
      "metadata": {
        "id": "mTog5S_Pxm9E"
      },
      "outputs": [],
      "source": [
        "# the CSV file name\n",
        "file_name = '/content/ethereum.csv'"
      ]
    },
    {
      "cell_type": "code",
      "execution_count": 8,
      "metadata": {
        "id": "N9BjS5azym3S"
      },
      "outputs": [],
      "source": [
        "# the CSV file name\n",
        "df = pd.read_csv('/content/ethereum.csv')\n",
        "\n"
      ]
    },
    {
      "cell_type": "code",
      "execution_count": 9,
      "metadata": {
        "colab": {
          "base_uri": "https://localhost:8080/"
        },
        "id": "8OtyERwK1orw",
        "outputId": "b9a9617c-8e3f-425b-e78c-e3388c945d70"
      },
      "outputs": [
        {
          "output_type": "stream",
          "name": "stdout",
          "text": [
            "<class 'pandas.core.frame.DataFrame'>\n",
            "RangeIndex: 3146 entries, 0 to 3145\n",
            "Data columns (total 5 columns):\n",
            " #   Column        Non-Null Count  Dtype  \n",
            "---  ------        --------------  -----  \n",
            " 0   date          3146 non-null   object \n",
            " 1   price         3146 non-null   float64\n",
            " 2   total_volume  3146 non-null   float64\n",
            " 3   market_cap    3145 non-null   float64\n",
            " 4   coin_name     3146 non-null   object \n",
            "dtypes: float64(3), object(2)\n",
            "memory usage: 123.0+ KB\n"
          ]
        }
      ],
      "source": [
        "df.info()"
      ]
    },
    {
      "cell_type": "code",
      "execution_count": 10,
      "metadata": {
        "colab": {
          "base_uri": "https://localhost:8080/",
          "height": 206
        },
        "id": "G-jEJ-g6y22D",
        "outputId": "a339a51d-5137-4222-bc0a-e77312049bdb"
      },
      "outputs": [
        {
          "output_type": "execute_result",
          "data": {
            "text/plain": [
              "                      date     price  total_volume    market_cap coin_name\n",
              "0  2015-08-07 00:00:00.000  2.831620  9.062200e+04  0.000000e+00  ethereum\n",
              "1  2015-08-08 00:00:00.000  1.330750  3.680700e+05  8.033948e+07  ethereum\n",
              "2  2015-08-10 00:00:00.000  0.687586  4.004641e+05  4.155631e+07  ethereum\n",
              "3  2015-08-11 00:00:00.000  1.067379  1.518998e+06  6.453901e+07  ethereum\n",
              "4  2015-08-12 00:00:00.000  1.256613  2.073893e+06  7.601326e+07  ethereum"
            ],
            "text/html": [
              "\n",
              "  <div id=\"df-46497c6f-bab0-4de2-ae58-06902725f6c6\" class=\"colab-df-container\">\n",
              "    <div>\n",
              "<style scoped>\n",
              "    .dataframe tbody tr th:only-of-type {\n",
              "        vertical-align: middle;\n",
              "    }\n",
              "\n",
              "    .dataframe tbody tr th {\n",
              "        vertical-align: top;\n",
              "    }\n",
              "\n",
              "    .dataframe thead th {\n",
              "        text-align: right;\n",
              "    }\n",
              "</style>\n",
              "<table border=\"1\" class=\"dataframe\">\n",
              "  <thead>\n",
              "    <tr style=\"text-align: right;\">\n",
              "      <th></th>\n",
              "      <th>date</th>\n",
              "      <th>price</th>\n",
              "      <th>total_volume</th>\n",
              "      <th>market_cap</th>\n",
              "      <th>coin_name</th>\n",
              "    </tr>\n",
              "  </thead>\n",
              "  <tbody>\n",
              "    <tr>\n",
              "      <th>0</th>\n",
              "      <td>2015-08-07 00:00:00.000</td>\n",
              "      <td>2.831620</td>\n",
              "      <td>9.062200e+04</td>\n",
              "      <td>0.000000e+00</td>\n",
              "      <td>ethereum</td>\n",
              "    </tr>\n",
              "    <tr>\n",
              "      <th>1</th>\n",
              "      <td>2015-08-08 00:00:00.000</td>\n",
              "      <td>1.330750</td>\n",
              "      <td>3.680700e+05</td>\n",
              "      <td>8.033948e+07</td>\n",
              "      <td>ethereum</td>\n",
              "    </tr>\n",
              "    <tr>\n",
              "      <th>2</th>\n",
              "      <td>2015-08-10 00:00:00.000</td>\n",
              "      <td>0.687586</td>\n",
              "      <td>4.004641e+05</td>\n",
              "      <td>4.155631e+07</td>\n",
              "      <td>ethereum</td>\n",
              "    </tr>\n",
              "    <tr>\n",
              "      <th>3</th>\n",
              "      <td>2015-08-11 00:00:00.000</td>\n",
              "      <td>1.067379</td>\n",
              "      <td>1.518998e+06</td>\n",
              "      <td>6.453901e+07</td>\n",
              "      <td>ethereum</td>\n",
              "    </tr>\n",
              "    <tr>\n",
              "      <th>4</th>\n",
              "      <td>2015-08-12 00:00:00.000</td>\n",
              "      <td>1.256613</td>\n",
              "      <td>2.073893e+06</td>\n",
              "      <td>7.601326e+07</td>\n",
              "      <td>ethereum</td>\n",
              "    </tr>\n",
              "  </tbody>\n",
              "</table>\n",
              "</div>\n",
              "    <div class=\"colab-df-buttons\">\n",
              "\n",
              "  <div class=\"colab-df-container\">\n",
              "    <button class=\"colab-df-convert\" onclick=\"convertToInteractive('df-46497c6f-bab0-4de2-ae58-06902725f6c6')\"\n",
              "            title=\"Convert this dataframe to an interactive table.\"\n",
              "            style=\"display:none;\">\n",
              "\n",
              "  <svg xmlns=\"http://www.w3.org/2000/svg\" height=\"24px\" viewBox=\"0 -960 960 960\">\n",
              "    <path d=\"M120-120v-720h720v720H120Zm60-500h600v-160H180v160Zm220 220h160v-160H400v160Zm0 220h160v-160H400v160ZM180-400h160v-160H180v160Zm440 0h160v-160H620v160ZM180-180h160v-160H180v160Zm440 0h160v-160H620v160Z\"/>\n",
              "  </svg>\n",
              "    </button>\n",
              "\n",
              "  <style>\n",
              "    .colab-df-container {\n",
              "      display:flex;\n",
              "      gap: 12px;\n",
              "    }\n",
              "\n",
              "    .colab-df-convert {\n",
              "      background-color: #E8F0FE;\n",
              "      border: none;\n",
              "      border-radius: 50%;\n",
              "      cursor: pointer;\n",
              "      display: none;\n",
              "      fill: #1967D2;\n",
              "      height: 32px;\n",
              "      padding: 0 0 0 0;\n",
              "      width: 32px;\n",
              "    }\n",
              "\n",
              "    .colab-df-convert:hover {\n",
              "      background-color: #E2EBFA;\n",
              "      box-shadow: 0px 1px 2px rgba(60, 64, 67, 0.3), 0px 1px 3px 1px rgba(60, 64, 67, 0.15);\n",
              "      fill: #174EA6;\n",
              "    }\n",
              "\n",
              "    .colab-df-buttons div {\n",
              "      margin-bottom: 4px;\n",
              "    }\n",
              "\n",
              "    [theme=dark] .colab-df-convert {\n",
              "      background-color: #3B4455;\n",
              "      fill: #D2E3FC;\n",
              "    }\n",
              "\n",
              "    [theme=dark] .colab-df-convert:hover {\n",
              "      background-color: #434B5C;\n",
              "      box-shadow: 0px 1px 3px 1px rgba(0, 0, 0, 0.15);\n",
              "      filter: drop-shadow(0px 1px 2px rgba(0, 0, 0, 0.3));\n",
              "      fill: #FFFFFF;\n",
              "    }\n",
              "  </style>\n",
              "\n",
              "    <script>\n",
              "      const buttonEl =\n",
              "        document.querySelector('#df-46497c6f-bab0-4de2-ae58-06902725f6c6 button.colab-df-convert');\n",
              "      buttonEl.style.display =\n",
              "        google.colab.kernel.accessAllowed ? 'block' : 'none';\n",
              "\n",
              "      async function convertToInteractive(key) {\n",
              "        const element = document.querySelector('#df-46497c6f-bab0-4de2-ae58-06902725f6c6');\n",
              "        const dataTable =\n",
              "          await google.colab.kernel.invokeFunction('convertToInteractive',\n",
              "                                                    [key], {});\n",
              "        if (!dataTable) return;\n",
              "\n",
              "        const docLinkHtml = 'Like what you see? Visit the ' +\n",
              "          '<a target=\"_blank\" href=https://colab.research.google.com/notebooks/data_table.ipynb>data table notebook</a>'\n",
              "          + ' to learn more about interactive tables.';\n",
              "        element.innerHTML = '';\n",
              "        dataTable['output_type'] = 'display_data';\n",
              "        await google.colab.output.renderOutput(dataTable, element);\n",
              "        const docLink = document.createElement('div');\n",
              "        docLink.innerHTML = docLinkHtml;\n",
              "        element.appendChild(docLink);\n",
              "      }\n",
              "    </script>\n",
              "  </div>\n",
              "\n",
              "\n",
              "<div id=\"df-3560b1ef-f02e-4216-8d93-f6c7e2d77256\">\n",
              "  <button class=\"colab-df-quickchart\" onclick=\"quickchart('df-3560b1ef-f02e-4216-8d93-f6c7e2d77256')\"\n",
              "            title=\"Suggest charts\"\n",
              "            style=\"display:none;\">\n",
              "\n",
              "<svg xmlns=\"http://www.w3.org/2000/svg\" height=\"24px\"viewBox=\"0 0 24 24\"\n",
              "     width=\"24px\">\n",
              "    <g>\n",
              "        <path d=\"M19 3H5c-1.1 0-2 .9-2 2v14c0 1.1.9 2 2 2h14c1.1 0 2-.9 2-2V5c0-1.1-.9-2-2-2zM9 17H7v-7h2v7zm4 0h-2V7h2v10zm4 0h-2v-4h2v4z\"/>\n",
              "    </g>\n",
              "</svg>\n",
              "  </button>\n",
              "\n",
              "<style>\n",
              "  .colab-df-quickchart {\n",
              "      --bg-color: #E8F0FE;\n",
              "      --fill-color: #1967D2;\n",
              "      --hover-bg-color: #E2EBFA;\n",
              "      --hover-fill-color: #174EA6;\n",
              "      --disabled-fill-color: #AAA;\n",
              "      --disabled-bg-color: #DDD;\n",
              "  }\n",
              "\n",
              "  [theme=dark] .colab-df-quickchart {\n",
              "      --bg-color: #3B4455;\n",
              "      --fill-color: #D2E3FC;\n",
              "      --hover-bg-color: #434B5C;\n",
              "      --hover-fill-color: #FFFFFF;\n",
              "      --disabled-bg-color: #3B4455;\n",
              "      --disabled-fill-color: #666;\n",
              "  }\n",
              "\n",
              "  .colab-df-quickchart {\n",
              "    background-color: var(--bg-color);\n",
              "    border: none;\n",
              "    border-radius: 50%;\n",
              "    cursor: pointer;\n",
              "    display: none;\n",
              "    fill: var(--fill-color);\n",
              "    height: 32px;\n",
              "    padding: 0;\n",
              "    width: 32px;\n",
              "  }\n",
              "\n",
              "  .colab-df-quickchart:hover {\n",
              "    background-color: var(--hover-bg-color);\n",
              "    box-shadow: 0 1px 2px rgba(60, 64, 67, 0.3), 0 1px 3px 1px rgba(60, 64, 67, 0.15);\n",
              "    fill: var(--button-hover-fill-color);\n",
              "  }\n",
              "\n",
              "  .colab-df-quickchart-complete:disabled,\n",
              "  .colab-df-quickchart-complete:disabled:hover {\n",
              "    background-color: var(--disabled-bg-color);\n",
              "    fill: var(--disabled-fill-color);\n",
              "    box-shadow: none;\n",
              "  }\n",
              "\n",
              "  .colab-df-spinner {\n",
              "    border: 2px solid var(--fill-color);\n",
              "    border-color: transparent;\n",
              "    border-bottom-color: var(--fill-color);\n",
              "    animation:\n",
              "      spin 1s steps(1) infinite;\n",
              "  }\n",
              "\n",
              "  @keyframes spin {\n",
              "    0% {\n",
              "      border-color: transparent;\n",
              "      border-bottom-color: var(--fill-color);\n",
              "      border-left-color: var(--fill-color);\n",
              "    }\n",
              "    20% {\n",
              "      border-color: transparent;\n",
              "      border-left-color: var(--fill-color);\n",
              "      border-top-color: var(--fill-color);\n",
              "    }\n",
              "    30% {\n",
              "      border-color: transparent;\n",
              "      border-left-color: var(--fill-color);\n",
              "      border-top-color: var(--fill-color);\n",
              "      border-right-color: var(--fill-color);\n",
              "    }\n",
              "    40% {\n",
              "      border-color: transparent;\n",
              "      border-right-color: var(--fill-color);\n",
              "      border-top-color: var(--fill-color);\n",
              "    }\n",
              "    60% {\n",
              "      border-color: transparent;\n",
              "      border-right-color: var(--fill-color);\n",
              "    }\n",
              "    80% {\n",
              "      border-color: transparent;\n",
              "      border-right-color: var(--fill-color);\n",
              "      border-bottom-color: var(--fill-color);\n",
              "    }\n",
              "    90% {\n",
              "      border-color: transparent;\n",
              "      border-bottom-color: var(--fill-color);\n",
              "    }\n",
              "  }\n",
              "</style>\n",
              "\n",
              "  <script>\n",
              "    async function quickchart(key) {\n",
              "      const quickchartButtonEl =\n",
              "        document.querySelector('#' + key + ' button');\n",
              "      quickchartButtonEl.disabled = true;  // To prevent multiple clicks.\n",
              "      quickchartButtonEl.classList.add('colab-df-spinner');\n",
              "      try {\n",
              "        const charts = await google.colab.kernel.invokeFunction(\n",
              "            'suggestCharts', [key], {});\n",
              "      } catch (error) {\n",
              "        console.error('Error during call to suggestCharts:', error);\n",
              "      }\n",
              "      quickchartButtonEl.classList.remove('colab-df-spinner');\n",
              "      quickchartButtonEl.classList.add('colab-df-quickchart-complete');\n",
              "    }\n",
              "    (() => {\n",
              "      let quickchartButtonEl =\n",
              "        document.querySelector('#df-3560b1ef-f02e-4216-8d93-f6c7e2d77256 button');\n",
              "      quickchartButtonEl.style.display =\n",
              "        google.colab.kernel.accessAllowed ? 'block' : 'none';\n",
              "    })();\n",
              "  </script>\n",
              "</div>\n",
              "\n",
              "    </div>\n",
              "  </div>\n"
            ],
            "application/vnd.google.colaboratory.intrinsic+json": {
              "type": "dataframe",
              "variable_name": "df",
              "summary": "{\n  \"name\": \"df\",\n  \"rows\": 3146,\n  \"fields\": [\n    {\n      \"column\": \"date\",\n      \"properties\": {\n        \"dtype\": \"object\",\n        \"num_unique_values\": 3146,\n        \"samples\": [\n          \"2023-09-16 00:00:00.000\",\n          \"2018-04-03 00:00:00.000\",\n          \"2019-05-24 00:00:00.000\"\n        ],\n        \"semantic_type\": \"\",\n        \"description\": \"\"\n      }\n    },\n    {\n      \"column\": \"price\",\n      \"properties\": {\n        \"dtype\": \"number\",\n        \"std\": 1120.050259855557,\n        \"min\": 0.4329785990312485,\n        \"max\": 4815.004634322234,\n        \"num_unique_values\": 3146,\n        \"samples\": [\n          1641.9347582842215,\n          384.8259822881638,\n          244.6460957973966\n        ],\n        \"semantic_type\": \"\",\n        \"description\": \"\"\n      }\n    },\n    {\n      \"column\": \"total_volume\",\n      \"properties\": {\n        \"dtype\": \"number\",\n        \"std\": 12233887842.06556,\n        \"min\": 87074.79961764446,\n        \"max\": 140906534190.58786,\n        \"num_unique_values\": 3146,\n        \"samples\": [\n          6794504241.698757,\n          725811930.9112238,\n          11366080280.52015\n        ],\n        \"semantic_type\": \"\",\n        \"description\": \"\"\n      }\n    },\n    {\n      \"column\": \"market_cap\",\n      \"properties\": {\n        \"dtype\": \"number\",\n        \"std\": 133999977715.14755,\n        \"min\": 0.0,\n        \"max\": 571665766496.0859,\n        \"num_unique_values\": 3145,\n        \"samples\": [\n          216024475834.15308,\n          192175393181.7551,\n          48417457589.09996\n        ],\n        \"semantic_type\": \"\",\n        \"description\": \"\"\n      }\n    },\n    {\n      \"column\": \"coin_name\",\n      \"properties\": {\n        \"dtype\": \"category\",\n        \"num_unique_values\": 1,\n        \"samples\": [\n          \"ethereum\"\n        ],\n        \"semantic_type\": \"\",\n        \"description\": \"\"\n      }\n    }\n  ]\n}"
            }
          },
          "metadata": {},
          "execution_count": 10
        }
      ],
      "source": [
        "# check the first five rows\n",
        "df.head()"
      ]
    },
    {
      "cell_type": "code",
      "execution_count": 11,
      "metadata": {
        "colab": {
          "base_uri": "https://localhost:8080/",
          "height": 206
        },
        "id": "XK_B1__Q1u1J",
        "outputId": "2ad92071-1022-4444-a591-8d90781c9259"
      },
      "outputs": [
        {
          "output_type": "execute_result",
          "data": {
            "text/plain": [
              "                         date        price  total_volume    market_cap  \\\n",
              "3141  2024-03-14 00:00:00.000  4007.912126  2.451827e+10  4.809894e+11   \n",
              "3142  2024-03-15 00:00:00.000  3879.038367  2.763722e+10  4.655176e+11   \n",
              "3143  2024-03-16 00:00:00.000  3738.381184  3.851458e+10  4.492210e+11   \n",
              "3144  2024-03-17 00:00:00.000  3514.222472  2.031483e+10  4.220067e+11   \n",
              "3145  2024-03-18 00:00:00.000  3643.280347  2.228240e+10  4.373980e+11   \n",
              "\n",
              "     coin_name  \n",
              "3141  ethereum  \n",
              "3142  ethereum  \n",
              "3143  ethereum  \n",
              "3144  ethereum  \n",
              "3145  ethereum  "
            ],
            "text/html": [
              "\n",
              "  <div id=\"df-d150daa9-5bda-40d3-9921-cb4cdcbbb9b7\" class=\"colab-df-container\">\n",
              "    <div>\n",
              "<style scoped>\n",
              "    .dataframe tbody tr th:only-of-type {\n",
              "        vertical-align: middle;\n",
              "    }\n",
              "\n",
              "    .dataframe tbody tr th {\n",
              "        vertical-align: top;\n",
              "    }\n",
              "\n",
              "    .dataframe thead th {\n",
              "        text-align: right;\n",
              "    }\n",
              "</style>\n",
              "<table border=\"1\" class=\"dataframe\">\n",
              "  <thead>\n",
              "    <tr style=\"text-align: right;\">\n",
              "      <th></th>\n",
              "      <th>date</th>\n",
              "      <th>price</th>\n",
              "      <th>total_volume</th>\n",
              "      <th>market_cap</th>\n",
              "      <th>coin_name</th>\n",
              "    </tr>\n",
              "  </thead>\n",
              "  <tbody>\n",
              "    <tr>\n",
              "      <th>3141</th>\n",
              "      <td>2024-03-14 00:00:00.000</td>\n",
              "      <td>4007.912126</td>\n",
              "      <td>2.451827e+10</td>\n",
              "      <td>4.809894e+11</td>\n",
              "      <td>ethereum</td>\n",
              "    </tr>\n",
              "    <tr>\n",
              "      <th>3142</th>\n",
              "      <td>2024-03-15 00:00:00.000</td>\n",
              "      <td>3879.038367</td>\n",
              "      <td>2.763722e+10</td>\n",
              "      <td>4.655176e+11</td>\n",
              "      <td>ethereum</td>\n",
              "    </tr>\n",
              "    <tr>\n",
              "      <th>3143</th>\n",
              "      <td>2024-03-16 00:00:00.000</td>\n",
              "      <td>3738.381184</td>\n",
              "      <td>3.851458e+10</td>\n",
              "      <td>4.492210e+11</td>\n",
              "      <td>ethereum</td>\n",
              "    </tr>\n",
              "    <tr>\n",
              "      <th>3144</th>\n",
              "      <td>2024-03-17 00:00:00.000</td>\n",
              "      <td>3514.222472</td>\n",
              "      <td>2.031483e+10</td>\n",
              "      <td>4.220067e+11</td>\n",
              "      <td>ethereum</td>\n",
              "    </tr>\n",
              "    <tr>\n",
              "      <th>3145</th>\n",
              "      <td>2024-03-18 00:00:00.000</td>\n",
              "      <td>3643.280347</td>\n",
              "      <td>2.228240e+10</td>\n",
              "      <td>4.373980e+11</td>\n",
              "      <td>ethereum</td>\n",
              "    </tr>\n",
              "  </tbody>\n",
              "</table>\n",
              "</div>\n",
              "    <div class=\"colab-df-buttons\">\n",
              "\n",
              "  <div class=\"colab-df-container\">\n",
              "    <button class=\"colab-df-convert\" onclick=\"convertToInteractive('df-d150daa9-5bda-40d3-9921-cb4cdcbbb9b7')\"\n",
              "            title=\"Convert this dataframe to an interactive table.\"\n",
              "            style=\"display:none;\">\n",
              "\n",
              "  <svg xmlns=\"http://www.w3.org/2000/svg\" height=\"24px\" viewBox=\"0 -960 960 960\">\n",
              "    <path d=\"M120-120v-720h720v720H120Zm60-500h600v-160H180v160Zm220 220h160v-160H400v160Zm0 220h160v-160H400v160ZM180-400h160v-160H180v160Zm440 0h160v-160H620v160ZM180-180h160v-160H180v160Zm440 0h160v-160H620v160Z\"/>\n",
              "  </svg>\n",
              "    </button>\n",
              "\n",
              "  <style>\n",
              "    .colab-df-container {\n",
              "      display:flex;\n",
              "      gap: 12px;\n",
              "    }\n",
              "\n",
              "    .colab-df-convert {\n",
              "      background-color: #E8F0FE;\n",
              "      border: none;\n",
              "      border-radius: 50%;\n",
              "      cursor: pointer;\n",
              "      display: none;\n",
              "      fill: #1967D2;\n",
              "      height: 32px;\n",
              "      padding: 0 0 0 0;\n",
              "      width: 32px;\n",
              "    }\n",
              "\n",
              "    .colab-df-convert:hover {\n",
              "      background-color: #E2EBFA;\n",
              "      box-shadow: 0px 1px 2px rgba(60, 64, 67, 0.3), 0px 1px 3px 1px rgba(60, 64, 67, 0.15);\n",
              "      fill: #174EA6;\n",
              "    }\n",
              "\n",
              "    .colab-df-buttons div {\n",
              "      margin-bottom: 4px;\n",
              "    }\n",
              "\n",
              "    [theme=dark] .colab-df-convert {\n",
              "      background-color: #3B4455;\n",
              "      fill: #D2E3FC;\n",
              "    }\n",
              "\n",
              "    [theme=dark] .colab-df-convert:hover {\n",
              "      background-color: #434B5C;\n",
              "      box-shadow: 0px 1px 3px 1px rgba(0, 0, 0, 0.15);\n",
              "      filter: drop-shadow(0px 1px 2px rgba(0, 0, 0, 0.3));\n",
              "      fill: #FFFFFF;\n",
              "    }\n",
              "  </style>\n",
              "\n",
              "    <script>\n",
              "      const buttonEl =\n",
              "        document.querySelector('#df-d150daa9-5bda-40d3-9921-cb4cdcbbb9b7 button.colab-df-convert');\n",
              "      buttonEl.style.display =\n",
              "        google.colab.kernel.accessAllowed ? 'block' : 'none';\n",
              "\n",
              "      async function convertToInteractive(key) {\n",
              "        const element = document.querySelector('#df-d150daa9-5bda-40d3-9921-cb4cdcbbb9b7');\n",
              "        const dataTable =\n",
              "          await google.colab.kernel.invokeFunction('convertToInteractive',\n",
              "                                                    [key], {});\n",
              "        if (!dataTable) return;\n",
              "\n",
              "        const docLinkHtml = 'Like what you see? Visit the ' +\n",
              "          '<a target=\"_blank\" href=https://colab.research.google.com/notebooks/data_table.ipynb>data table notebook</a>'\n",
              "          + ' to learn more about interactive tables.';\n",
              "        element.innerHTML = '';\n",
              "        dataTable['output_type'] = 'display_data';\n",
              "        await google.colab.output.renderOutput(dataTable, element);\n",
              "        const docLink = document.createElement('div');\n",
              "        docLink.innerHTML = docLinkHtml;\n",
              "        element.appendChild(docLink);\n",
              "      }\n",
              "    </script>\n",
              "  </div>\n",
              "\n",
              "\n",
              "<div id=\"df-21742967-37f4-48a2-9233-3ec8914bea8f\">\n",
              "  <button class=\"colab-df-quickchart\" onclick=\"quickchart('df-21742967-37f4-48a2-9233-3ec8914bea8f')\"\n",
              "            title=\"Suggest charts\"\n",
              "            style=\"display:none;\">\n",
              "\n",
              "<svg xmlns=\"http://www.w3.org/2000/svg\" height=\"24px\"viewBox=\"0 0 24 24\"\n",
              "     width=\"24px\">\n",
              "    <g>\n",
              "        <path d=\"M19 3H5c-1.1 0-2 .9-2 2v14c0 1.1.9 2 2 2h14c1.1 0 2-.9 2-2V5c0-1.1-.9-2-2-2zM9 17H7v-7h2v7zm4 0h-2V7h2v10zm4 0h-2v-4h2v4z\"/>\n",
              "    </g>\n",
              "</svg>\n",
              "  </button>\n",
              "\n",
              "<style>\n",
              "  .colab-df-quickchart {\n",
              "      --bg-color: #E8F0FE;\n",
              "      --fill-color: #1967D2;\n",
              "      --hover-bg-color: #E2EBFA;\n",
              "      --hover-fill-color: #174EA6;\n",
              "      --disabled-fill-color: #AAA;\n",
              "      --disabled-bg-color: #DDD;\n",
              "  }\n",
              "\n",
              "  [theme=dark] .colab-df-quickchart {\n",
              "      --bg-color: #3B4455;\n",
              "      --fill-color: #D2E3FC;\n",
              "      --hover-bg-color: #434B5C;\n",
              "      --hover-fill-color: #FFFFFF;\n",
              "      --disabled-bg-color: #3B4455;\n",
              "      --disabled-fill-color: #666;\n",
              "  }\n",
              "\n",
              "  .colab-df-quickchart {\n",
              "    background-color: var(--bg-color);\n",
              "    border: none;\n",
              "    border-radius: 50%;\n",
              "    cursor: pointer;\n",
              "    display: none;\n",
              "    fill: var(--fill-color);\n",
              "    height: 32px;\n",
              "    padding: 0;\n",
              "    width: 32px;\n",
              "  }\n",
              "\n",
              "  .colab-df-quickchart:hover {\n",
              "    background-color: var(--hover-bg-color);\n",
              "    box-shadow: 0 1px 2px rgba(60, 64, 67, 0.3), 0 1px 3px 1px rgba(60, 64, 67, 0.15);\n",
              "    fill: var(--button-hover-fill-color);\n",
              "  }\n",
              "\n",
              "  .colab-df-quickchart-complete:disabled,\n",
              "  .colab-df-quickchart-complete:disabled:hover {\n",
              "    background-color: var(--disabled-bg-color);\n",
              "    fill: var(--disabled-fill-color);\n",
              "    box-shadow: none;\n",
              "  }\n",
              "\n",
              "  .colab-df-spinner {\n",
              "    border: 2px solid var(--fill-color);\n",
              "    border-color: transparent;\n",
              "    border-bottom-color: var(--fill-color);\n",
              "    animation:\n",
              "      spin 1s steps(1) infinite;\n",
              "  }\n",
              "\n",
              "  @keyframes spin {\n",
              "    0% {\n",
              "      border-color: transparent;\n",
              "      border-bottom-color: var(--fill-color);\n",
              "      border-left-color: var(--fill-color);\n",
              "    }\n",
              "    20% {\n",
              "      border-color: transparent;\n",
              "      border-left-color: var(--fill-color);\n",
              "      border-top-color: var(--fill-color);\n",
              "    }\n",
              "    30% {\n",
              "      border-color: transparent;\n",
              "      border-left-color: var(--fill-color);\n",
              "      border-top-color: var(--fill-color);\n",
              "      border-right-color: var(--fill-color);\n",
              "    }\n",
              "    40% {\n",
              "      border-color: transparent;\n",
              "      border-right-color: var(--fill-color);\n",
              "      border-top-color: var(--fill-color);\n",
              "    }\n",
              "    60% {\n",
              "      border-color: transparent;\n",
              "      border-right-color: var(--fill-color);\n",
              "    }\n",
              "    80% {\n",
              "      border-color: transparent;\n",
              "      border-right-color: var(--fill-color);\n",
              "      border-bottom-color: var(--fill-color);\n",
              "    }\n",
              "    90% {\n",
              "      border-color: transparent;\n",
              "      border-bottom-color: var(--fill-color);\n",
              "    }\n",
              "  }\n",
              "</style>\n",
              "\n",
              "  <script>\n",
              "    async function quickchart(key) {\n",
              "      const quickchartButtonEl =\n",
              "        document.querySelector('#' + key + ' button');\n",
              "      quickchartButtonEl.disabled = true;  // To prevent multiple clicks.\n",
              "      quickchartButtonEl.classList.add('colab-df-spinner');\n",
              "      try {\n",
              "        const charts = await google.colab.kernel.invokeFunction(\n",
              "            'suggestCharts', [key], {});\n",
              "      } catch (error) {\n",
              "        console.error('Error during call to suggestCharts:', error);\n",
              "      }\n",
              "      quickchartButtonEl.classList.remove('colab-df-spinner');\n",
              "      quickchartButtonEl.classList.add('colab-df-quickchart-complete');\n",
              "    }\n",
              "    (() => {\n",
              "      let quickchartButtonEl =\n",
              "        document.querySelector('#df-21742967-37f4-48a2-9233-3ec8914bea8f button');\n",
              "      quickchartButtonEl.style.display =\n",
              "        google.colab.kernel.accessAllowed ? 'block' : 'none';\n",
              "    })();\n",
              "  </script>\n",
              "</div>\n",
              "\n",
              "    </div>\n",
              "  </div>\n"
            ],
            "application/vnd.google.colaboratory.intrinsic+json": {
              "type": "dataframe",
              "repr_error": "0"
            }
          },
          "metadata": {},
          "execution_count": 11
        }
      ],
      "source": [
        "df.tail()"
      ]
    },
    {
      "cell_type": "code",
      "execution_count": 88,
      "metadata": {
        "colab": {
          "base_uri": "https://localhost:8080/"
        },
        "id": "pf6tOKKJ218k",
        "outputId": "40f09ee6-ec4e-4011-9f23-1e59b2e366d9"
      },
      "outputs": [
        {
          "output_type": "execute_result",
          "data": {
            "text/plain": [
              "Index(['date', 'price', 'total_volume', 'market_cap', 'coin_name'], dtype='object')"
            ]
          },
          "metadata": {},
          "execution_count": 88
        }
      ],
      "source": [
        "#Check columns\n",
        "df.columns"
      ]
    },
    {
      "cell_type": "code",
      "execution_count": 13,
      "metadata": {
        "colab": {
          "base_uri": "https://localhost:8080/"
        },
        "id": "2-G1zPMo22kS",
        "outputId": "e79e29ab-a4ba-4fda-a4bc-87dc04a9a03c"
      },
      "outputs": [
        {
          "output_type": "execute_result",
          "data": {
            "text/plain": [
              "date            0\n",
              "price           0\n",
              "total_volume    0\n",
              "market_cap      1\n",
              "coin_name       0\n",
              "dtype: int64"
            ]
          },
          "metadata": {},
          "execution_count": 13
        }
      ],
      "source": [
        "# check the null values\n",
        "df.isnull().sum()"
      ]
    },
    {
      "cell_type": "code",
      "execution_count": 14,
      "metadata": {
        "id": "pIVg11yA3CJX"
      },
      "outputs": [],
      "source": [
        "df['market_cap'].fillna(df['market_cap'].mean(), inplace=True)\n",
        "df['market_cap'].fillna('Unknown', inplace=True)\n",
        "df.dropna(subset=['market_cap'], inplace=True)"
      ]
    },
    {
      "cell_type": "code",
      "execution_count": 15,
      "metadata": {
        "colab": {
          "base_uri": "https://localhost:8080/"
        },
        "id": "M1Q0mmRC26Um",
        "outputId": "cffd9b92-08e1-4a33-dc15-07db7239d112"
      },
      "outputs": [
        {
          "output_type": "stream",
          "name": "stdout",
          "text": [
            "             price  total_volume    market_cap\n",
            "count  3146.000000  3.146000e+03  3.146000e+03\n",
            "mean    971.076804  9.696235e+09  1.132707e+11\n",
            "std    1120.050260  1.223389e+10  1.339787e+11\n",
            "min       0.432979  8.707480e+04  0.000000e+00\n",
            "25%     136.287407  5.502374e+08  1.451065e+10\n",
            "50%     360.327404  6.766349e+09  3.861815e+10\n",
            "75%    1709.698442  1.413315e+10  2.037740e+11\n",
            "max    4815.004634  1.409065e+11  5.716658e+11\n"
          ]
        }
      ],
      "source": [
        "#  Display the descriptive statistics\n",
        "print(df.describe())"
      ]
    },
    {
      "cell_type": "code",
      "execution_count": 16,
      "metadata": {
        "colab": {
          "base_uri": "https://localhost:8080/"
        },
        "id": "Bh-5ttBt4POA",
        "outputId": "84b996d8-718c-4a67-c2a7-b635bfca4f93"
      },
      "outputs": [
        {
          "output_type": "stream",
          "name": "stdout",
          "text": [
            "2.831620       1\n",
            "2532.386803    1\n",
            "2748.784585    1\n",
            "2757.497552    1\n",
            "2776.703712    1\n",
            "              ..\n",
            "472.977265     1\n",
            "455.718431     1\n",
            "458.925801     1\n",
            "430.601784     1\n",
            "3643.280347    1\n",
            "Name: price, Length: 3146, dtype: int64\n"
          ]
        }
      ],
      "source": [
        "# Display the class label distribution\n",
        "print(df['price'].value_counts())"
      ]
    },
    {
      "cell_type": "code",
      "execution_count": 17,
      "metadata": {
        "id": "UPkWpjyz40Ig"
      },
      "outputs": [],
      "source": [
        "data = pd.read_csv('/content/ethereum.csv')"
      ]
    },
    {
      "cell_type": "code",
      "execution_count": 18,
      "metadata": {
        "id": "_dBGgisc5vv3"
      },
      "outputs": [],
      "source": [
        "# Preprocess data\n",
        "scaler = MinMaxScaler(feature_range=(0, 1))\n",
        "scaled_data = scaler.fit_transform(data['price'].values.reshape(-1,1))\n"
      ]
    },
    {
      "cell_type": "code",
      "execution_count": 19,
      "metadata": {
        "id": "EqWF9kPn6JyC"
      },
      "outputs": [],
      "source": [
        "# Define window size for LSTM model\n",
        "window_size = 120"
      ]
    },
    {
      "cell_type": "code",
      "execution_count": 20,
      "metadata": {
        "id": "3x_ijiJJ7SFA"
      },
      "outputs": [],
      "source": [
        "# Create sequences of data for LSTM model\n",
        "X, y = [], []\n",
        "for i in range(window_size, len(data)):\n",
        "    X.append(scaled_data[i-window_size:i, :])\n",
        "    y.append(scaled_data[i, 0])\n",
        "\n",
        "X = np.expand_dims(X, axis=1)\n",
        "y = np.expand_dims(y, axis=1)"
      ]
    },
    {
      "cell_type": "code",
      "execution_count": 21,
      "metadata": {
        "id": "LqFIzg4z7SpF"
      },
      "outputs": [],
      "source": [
        "# Reshape data for LSTM input: (samples, time steps, features)\n",
        "model = Sequential()\n",
        "model.add(LSTM(units=50, return_sequences=True, input_shape=(window_size, 1)))\n",
        "model.add(Dropout(0.2))\n",
        "model.add(LSTM(units=50))\n",
        "model.add(Dense(units=1))\n",
        "model.compile(loss='mean_squared_error', optimizer='adam')\n",
        "\n"
      ]
    },
    {
      "cell_type": "code",
      "execution_count": 22,
      "metadata": {
        "id": "B4GwdSvX8cFQ"
      },
      "outputs": [],
      "source": [
        "# Split data into training and testing sets\n",
        "split_index = int(len(data) * 0.8)\n",
        "\n",
        "X_train, X_test = X[:split_index], X[split_index:]\n",
        "y_train, y_test = y[:split_index], y[split_index:]"
      ]
    },
    {
      "cell_type": "code",
      "source": [
        "from keras.models import Sequential"
      ],
      "metadata": {
        "id": "Rq5i5WYOYjbm"
      },
      "execution_count": 38,
      "outputs": []
    },
    {
      "cell_type": "code",
      "execution_count": 39,
      "metadata": {
        "id": "C1IoODOE_Oqp"
      },
      "outputs": [],
      "source": [
        "# Define LSTM model\n",
        "model = Sequential()\n",
        "model.add(LSTM(units=50, return_sequences=True, input_shape=(X_train.shape[1], 1)))\n",
        "model.add(Dropout(0.2))\n",
        "model.add(LSTM(units=50, return_sequences=True))\n",
        "model.add(Dropout(0.2))\n",
        "model.add(LSTM(units=50))\n",
        "model.add(Dropout(0.2))\n",
        "model.add(Dense(units=1))"
      ]
    },
    {
      "cell_type": "code",
      "execution_count": 40,
      "metadata": {
        "id": "jbUZijdo_lgI"
      },
      "outputs": [],
      "source": [
        "# Compile model\n",
        "model.compile(optimizer='adam', loss='mean_squared_error')"
      ]
    },
    {
      "cell_type": "code",
      "execution_count": 41,
      "metadata": {
        "id": "7fEA8qRxB7tA"
      },
      "outputs": [],
      "source": [
        "# Define Early Stopping Callback\n",
        "early_stopping = EarlyStopping(monitor='val_loss', patience=10)"
      ]
    },
    {
      "cell_type": "code",
      "source": [
        "# Store the X_train variable in the global namespace\n",
        "%store X_train"
      ],
      "metadata": {
        "colab": {
          "base_uri": "https://localhost:8080/"
        },
        "id": "4v3VpewYYpnJ",
        "outputId": "2be1980f-a39b-44aa-84a4-bc03671fcae1"
      },
      "execution_count": 42,
      "outputs": [
        {
          "output_type": "stream",
          "name": "stdout",
          "text": [
            "Stored 'X_train' (ndarray)\n"
          ]
        }
      ]
    },
    {
      "cell_type": "code",
      "source": [
        "# Store the model variable in the global namespace\n",
        "%store model"
      ],
      "metadata": {
        "colab": {
          "base_uri": "https://localhost:8080/"
        },
        "id": "I2eetA9iW7wK",
        "outputId": "0ea78d61-0705-450c-adf4-fc74848ed3b3"
      },
      "execution_count": 30,
      "outputs": [
        {
          "output_type": "stream",
          "name": "stdout",
          "text": [
            "Stored 'model' (Sequential)\n"
          ]
        }
      ]
    },
    {
      "cell_type": "code",
      "source": [
        "print(model)"
      ],
      "metadata": {
        "colab": {
          "base_uri": "https://localhost:8080/"
        },
        "id": "mPXc1M3aXUS0",
        "outputId": "083adcf0-6ef1-4969-f59d-338b84eb5e43"
      },
      "execution_count": 46,
      "outputs": [
        {
          "output_type": "stream",
          "name": "stdout",
          "text": [
            "<keras.src.engine.sequential.Sequential object at 0x7bd9e621c4c0>\n"
          ]
        }
      ]
    },
    {
      "cell_type": "code",
      "source": [
        "model.summary()"
      ],
      "metadata": {
        "colab": {
          "base_uri": "https://localhost:8080/"
        },
        "id": "7rS_t2K_Xc4J",
        "outputId": "69738640-7c08-4719-d799-d94691d9eec8"
      },
      "execution_count": 47,
      "outputs": [
        {
          "output_type": "stream",
          "name": "stdout",
          "text": [
            "Model: \"sequential_2\"\n",
            "_________________________________________________________________\n",
            " Layer (type)                Output Shape              Param #   \n",
            "=================================================================\n",
            " lstm_5 (LSTM)               (None, 1, 50)             10400     \n",
            "                                                                 \n",
            " dropout_4 (Dropout)         (None, 1, 50)             0         \n",
            "                                                                 \n",
            " lstm_6 (LSTM)               (None, 1, 50)             20200     \n",
            "                                                                 \n",
            " dropout_5 (Dropout)         (None, 1, 50)             0         \n",
            "                                                                 \n",
            " lstm_7 (LSTM)               (None, 50)                20200     \n",
            "                                                                 \n",
            " dropout_6 (Dropout)         (None, 50)                0         \n",
            "                                                                 \n",
            " dense_2 (Dense)             (None, 1)                 51        \n",
            "                                                                 \n",
            "=================================================================\n",
            "Total params: 50851 (198.64 KB)\n",
            "Trainable params: 50851 (198.64 KB)\n",
            "Non-trainable params: 0 (0.00 Byte)\n",
            "_________________________________________________________________\n"
          ]
        }
      ]
    },
    {
      "cell_type": "code",
      "source": [
        "X_train = X_train.reshape(-1, 1, 1)\n"
      ],
      "metadata": {
        "id": "D3ihmQq4YEle"
      },
      "execution_count": 48,
      "outputs": []
    },
    {
      "cell_type": "code",
      "source": [
        "print(\"Shape of X_train:\", X_train.shape)\n",
        "print(\"Shape of y_train:\", y_train.shape)\n"
      ],
      "metadata": {
        "colab": {
          "base_uri": "https://localhost:8080/"
        },
        "id": "RJBiXiubZ8HN",
        "outputId": "ca9a2c2a-d6ea-4540-8e13-9201841ec2d0"
      },
      "execution_count": 51,
      "outputs": [
        {
          "output_type": "stream",
          "name": "stdout",
          "text": [
            "Shape of X_train: (301920, 1, 1)\n",
            "Shape of y_train: (2516, 1)\n"
          ]
        }
      ]
    },
    {
      "cell_type": "code",
      "source": [
        "print(\"Sample from X_train:\", X_train[0])  # Print the first sample from X_train\n",
        "print(\"Corresponding label from y_train:\", y_train[0])  # Print the corresponding label from y_train\n"
      ],
      "metadata": {
        "colab": {
          "base_uri": "https://localhost:8080/"
        },
        "id": "jdiOfCPPaNGm",
        "outputId": "81599311-b93b-4ec3-99f4-28ee72e3e6e0"
      },
      "execution_count": 52,
      "outputs": [
        {
          "output_type": "stream",
          "name": "stdout",
          "text": [
            "Sample from X_train: [[0.0004982]]\n",
            "Corresponding label from y_train: [8.3499409e-05]\n"
          ]
        }
      ]
    },
    {
      "cell_type": "code",
      "source": [
        "X_train = X_train.reshape(-1)  # Revert X_train back to its original shape\n"
      ],
      "metadata": {
        "id": "7GuBKRjNazAQ"
      },
      "execution_count": 54,
      "outputs": []
    },
    {
      "cell_type": "code",
      "source": [
        "# Repeat y_train to match the length of X_train\n",
        "y_train_aligned = np.repeat(y_train, X_train.shape[0] // y_train.shape[0], axis=0)"
      ],
      "metadata": {
        "id": "UjO-uQBla5eY"
      },
      "execution_count": 55,
      "outputs": []
    },
    {
      "cell_type": "code",
      "source": [
        "# Check the shapes to verify alignment\n",
        "print(\"Shape of X_train:\", X_train.shape)\n",
        "print(\"Shape of y_train_aligned:\", y_train_aligned.shape)"
      ],
      "metadata": {
        "colab": {
          "base_uri": "https://localhost:8080/"
        },
        "id": "lenIlw03a_wM",
        "outputId": "663e478b-51e1-4ae3-b327-fbe0abcc2202"
      },
      "execution_count": 56,
      "outputs": [
        {
          "output_type": "stream",
          "name": "stdout",
          "text": [
            "Shape of X_train: (301920,)\n",
            "Shape of y_train_aligned: (301920, 1)\n"
          ]
        }
      ]
    },
    {
      "cell_type": "code",
      "source": [
        "# Now you can proceed with splitting the aligned data\n",
        "X_train, X_test, y_train_aligned, y_test = train_test_split(X_train, y_train_aligned, test_size=0.2, random_state=42)"
      ],
      "metadata": {
        "id": "DMZtKeoabDXg"
      },
      "execution_count": 57,
      "outputs": []
    },
    {
      "cell_type": "code",
      "source": [
        "# Import necessary libraries\n",
        "\n",
        "from sklearn.metrics import mean_squared_error"
      ],
      "metadata": {
        "id": "GiU-atY0bHZo"
      },
      "execution_count": 67,
      "outputs": []
    },
    {
      "cell_type": "code",
      "source": [
        "X_train = X_train.reshape(-1, 1)\n"
      ],
      "metadata": {
        "id": "QSRtqtM7bqad"
      },
      "execution_count": 60,
      "outputs": []
    },
    {
      "cell_type": "code",
      "source": [
        "from keras.models import Sequential\n",
        "from keras.layers import LSTM, Dense\n"
      ],
      "metadata": {
        "id": "sGpFr9LxcVG4"
      },
      "execution_count": 63,
      "outputs": []
    },
    {
      "cell_type": "code",
      "source": [
        "model = Sequential()\n",
        "X_train = X_train.reshape(X_train.shape[0], 1, X_train.shape[1])\n",
        "\n",
        "model.add(LSTM(units=50))\n",
        "model.add(Dense(units=1))\n",
        "model.compile(optimizer='adam', loss='mean_squared_error')\n"
      ],
      "metadata": {
        "id": "CyJGzQkfcWjw"
      },
      "execution_count": 65,
      "outputs": []
    },
    {
      "cell_type": "code",
      "source": [
        "model.fit(X_train, y_train_aligned, epochs=100, batch_size=32)\n"
      ],
      "metadata": {
        "colab": {
          "base_uri": "https://localhost:8080/"
        },
        "id": "-GsAb_zqcq86",
        "outputId": "52241e35-4f8c-4020-cf6b-51c8b056b541"
      },
      "execution_count": 66,
      "outputs": [
        {
          "output_type": "stream",
          "name": "stdout",
          "text": [
            "Epoch 1/100\n",
            "7548/7548 [==============================] - 29s 3ms/step - loss: 0.0099\n",
            "Epoch 2/100\n",
            "7548/7548 [==============================] - 23s 3ms/step - loss: 0.0089\n",
            "Epoch 3/100\n",
            "7548/7548 [==============================] - 22s 3ms/step - loss: 0.0089\n",
            "Epoch 4/100\n",
            "7548/7548 [==============================] - 22s 3ms/step - loss: 0.0089\n",
            "Epoch 5/100\n",
            "7548/7548 [==============================] - 28s 4ms/step - loss: 0.0089\n",
            "Epoch 6/100\n",
            "7548/7548 [==============================] - 22s 3ms/step - loss: 0.0089\n",
            "Epoch 7/100\n",
            "7548/7548 [==============================] - 24s 3ms/step - loss: 0.0089\n",
            "Epoch 8/100\n",
            "7548/7548 [==============================] - 23s 3ms/step - loss: 0.0089\n",
            "Epoch 9/100\n",
            "7548/7548 [==============================] - 22s 3ms/step - loss: 0.0089\n",
            "Epoch 10/100\n",
            "7548/7548 [==============================] - 22s 3ms/step - loss: 0.0089\n",
            "Epoch 11/100\n",
            "7548/7548 [==============================] - 24s 3ms/step - loss: 0.0089\n",
            "Epoch 12/100\n",
            "7548/7548 [==============================] - 27s 4ms/step - loss: 0.0089\n",
            "Epoch 13/100\n",
            "7548/7548 [==============================] - 23s 3ms/step - loss: 0.0089\n",
            "Epoch 14/100\n",
            "7548/7548 [==============================] - 23s 3ms/step - loss: 0.0089\n",
            "Epoch 15/100\n",
            "7548/7548 [==============================] - 21s 3ms/step - loss: 0.0089\n",
            "Epoch 16/100\n",
            "7548/7548 [==============================] - 21s 3ms/step - loss: 0.0089\n",
            "Epoch 17/100\n",
            "7548/7548 [==============================] - 22s 3ms/step - loss: 0.0089\n",
            "Epoch 18/100\n",
            "7548/7548 [==============================] - 22s 3ms/step - loss: 0.0089\n",
            "Epoch 19/100\n",
            "7548/7548 [==============================] - 21s 3ms/step - loss: 0.0089\n",
            "Epoch 20/100\n",
            "7548/7548 [==============================] - 21s 3ms/step - loss: 0.0089\n",
            "Epoch 21/100\n",
            "7548/7548 [==============================] - 23s 3ms/step - loss: 0.0088\n",
            "Epoch 22/100\n",
            "7548/7548 [==============================] - 21s 3ms/step - loss: 0.0088\n",
            "Epoch 23/100\n",
            "7548/7548 [==============================] - 21s 3ms/step - loss: 0.0088\n",
            "Epoch 24/100\n",
            "7548/7548 [==============================] - 22s 3ms/step - loss: 0.0088\n",
            "Epoch 25/100\n",
            "7548/7548 [==============================] - 22s 3ms/step - loss: 0.0088\n",
            "Epoch 26/100\n",
            "7548/7548 [==============================] - 22s 3ms/step - loss: 0.0088\n",
            "Epoch 27/100\n",
            "7548/7548 [==============================] - 24s 3ms/step - loss: 0.0088\n",
            "Epoch 28/100\n",
            "7548/7548 [==============================] - 23s 3ms/step - loss: 0.0088\n",
            "Epoch 29/100\n",
            "7548/7548 [==============================] - 23s 3ms/step - loss: 0.0088\n",
            "Epoch 30/100\n",
            "7548/7548 [==============================] - 22s 3ms/step - loss: 0.0088\n",
            "Epoch 31/100\n",
            "7548/7548 [==============================] - 23s 3ms/step - loss: 0.0088\n",
            "Epoch 32/100\n",
            "7548/7548 [==============================] - 21s 3ms/step - loss: 0.0088\n",
            "Epoch 33/100\n",
            "7548/7548 [==============================] - 22s 3ms/step - loss: 0.0088\n",
            "Epoch 34/100\n",
            "7548/7548 [==============================] - 22s 3ms/step - loss: 0.0088\n",
            "Epoch 35/100\n",
            "7548/7548 [==============================] - 22s 3ms/step - loss: 0.0088\n",
            "Epoch 36/100\n",
            "7548/7548 [==============================] - 21s 3ms/step - loss: 0.0088\n",
            "Epoch 37/100\n",
            "7548/7548 [==============================] - 22s 3ms/step - loss: 0.0088\n",
            "Epoch 38/100\n",
            "7548/7548 [==============================] - 22s 3ms/step - loss: 0.0088\n",
            "Epoch 39/100\n",
            "7548/7548 [==============================] - 22s 3ms/step - loss: 0.0088\n",
            "Epoch 40/100\n",
            "7548/7548 [==============================] - 22s 3ms/step - loss: 0.0088\n",
            "Epoch 41/100\n",
            "7548/7548 [==============================] - 24s 3ms/step - loss: 0.0088\n",
            "Epoch 42/100\n",
            "7548/7548 [==============================] - 24s 3ms/step - loss: 0.0088\n",
            "Epoch 43/100\n",
            "7548/7548 [==============================] - 23s 3ms/step - loss: 0.0088\n",
            "Epoch 44/100\n",
            "7548/7548 [==============================] - 23s 3ms/step - loss: 0.0088\n",
            "Epoch 45/100\n",
            "7548/7548 [==============================] - 23s 3ms/step - loss: 0.0088\n",
            "Epoch 46/100\n",
            "7548/7548 [==============================] - 27s 4ms/step - loss: 0.0088\n",
            "Epoch 47/100\n",
            "7548/7548 [==============================] - 23s 3ms/step - loss: 0.0088\n",
            "Epoch 48/100\n",
            "7548/7548 [==============================] - 25s 3ms/step - loss: 0.0088\n",
            "Epoch 49/100\n",
            "7548/7548 [==============================] - 20s 3ms/step - loss: 0.0088\n",
            "Epoch 50/100\n",
            "7548/7548 [==============================] - 24s 3ms/step - loss: 0.0088\n",
            "Epoch 51/100\n",
            "7548/7548 [==============================] - 21s 3ms/step - loss: 0.0088\n",
            "Epoch 52/100\n",
            "7548/7548 [==============================] - 22s 3ms/step - loss: 0.0088\n",
            "Epoch 53/100\n",
            "7548/7548 [==============================] - 22s 3ms/step - loss: 0.0088\n",
            "Epoch 54/100\n",
            "7548/7548 [==============================] - 22s 3ms/step - loss: 0.0088\n",
            "Epoch 55/100\n",
            "7548/7548 [==============================] - 22s 3ms/step - loss: 0.0088\n",
            "Epoch 56/100\n",
            "7548/7548 [==============================] - 24s 3ms/step - loss: 0.0088\n",
            "Epoch 57/100\n",
            "7548/7548 [==============================] - 22s 3ms/step - loss: 0.0088\n",
            "Epoch 58/100\n",
            "7548/7548 [==============================] - 22s 3ms/step - loss: 0.0088\n",
            "Epoch 59/100\n",
            "7548/7548 [==============================] - 23s 3ms/step - loss: 0.0088\n",
            "Epoch 60/100\n",
            "7548/7548 [==============================] - 23s 3ms/step - loss: 0.0088\n",
            "Epoch 61/100\n",
            "7548/7548 [==============================] - 23s 3ms/step - loss: 0.0088\n",
            "Epoch 62/100\n",
            "7548/7548 [==============================] - 22s 3ms/step - loss: 0.0088\n",
            "Epoch 63/100\n",
            "7548/7548 [==============================] - 23s 3ms/step - loss: 0.0088\n",
            "Epoch 64/100\n",
            "7548/7548 [==============================] - 24s 3ms/step - loss: 0.0088\n",
            "Epoch 65/100\n",
            "7548/7548 [==============================] - 28s 4ms/step - loss: 0.0088\n",
            "Epoch 66/100\n",
            "7548/7548 [==============================] - 22s 3ms/step - loss: 0.0088\n",
            "Epoch 67/100\n",
            "7548/7548 [==============================] - 22s 3ms/step - loss: 0.0088\n",
            "Epoch 68/100\n",
            "7548/7548 [==============================] - 23s 3ms/step - loss: 0.0088\n",
            "Epoch 69/100\n",
            "7548/7548 [==============================] - 24s 3ms/step - loss: 0.0088\n",
            "Epoch 70/100\n",
            "7548/7548 [==============================] - 23s 3ms/step - loss: 0.0088\n",
            "Epoch 71/100\n",
            "7548/7548 [==============================] - 22s 3ms/step - loss: 0.0088\n",
            "Epoch 72/100\n",
            "7548/7548 [==============================] - 22s 3ms/step - loss: 0.0088\n",
            "Epoch 73/100\n",
            "7548/7548 [==============================] - 22s 3ms/step - loss: 0.0088\n",
            "Epoch 74/100\n",
            "7548/7548 [==============================] - 22s 3ms/step - loss: 0.0088\n",
            "Epoch 75/100\n",
            "7548/7548 [==============================] - 21s 3ms/step - loss: 0.0088\n",
            "Epoch 76/100\n",
            "7548/7548 [==============================] - 22s 3ms/step - loss: 0.0088\n",
            "Epoch 77/100\n",
            "7548/7548 [==============================] - 22s 3ms/step - loss: 0.0088\n",
            "Epoch 78/100\n",
            "7548/7548 [==============================] - 22s 3ms/step - loss: 0.0088\n",
            "Epoch 79/100\n",
            "7548/7548 [==============================] - 20s 3ms/step - loss: 0.0088\n",
            "Epoch 80/100\n",
            "7548/7548 [==============================] - 22s 3ms/step - loss: 0.0088\n",
            "Epoch 81/100\n",
            "7548/7548 [==============================] - 25s 3ms/step - loss: 0.0088\n",
            "Epoch 82/100\n",
            "7548/7548 [==============================] - 24s 3ms/step - loss: 0.0088\n",
            "Epoch 83/100\n",
            "7548/7548 [==============================] - 25s 3ms/step - loss: 0.0088\n",
            "Epoch 84/100\n",
            "7548/7548 [==============================] - 24s 3ms/step - loss: 0.0088\n",
            "Epoch 85/100\n",
            "7548/7548 [==============================] - 22s 3ms/step - loss: 0.0088\n",
            "Epoch 86/100\n",
            "7548/7548 [==============================] - 21s 3ms/step - loss: 0.0088\n",
            "Epoch 87/100\n",
            "7548/7548 [==============================] - 24s 3ms/step - loss: 0.0088\n",
            "Epoch 88/100\n",
            "7548/7548 [==============================] - 23s 3ms/step - loss: 0.0088\n",
            "Epoch 89/100\n",
            "7548/7548 [==============================] - 23s 3ms/step - loss: 0.0088\n",
            "Epoch 90/100\n",
            "7548/7548 [==============================] - 22s 3ms/step - loss: 0.0088\n",
            "Epoch 91/100\n",
            "7548/7548 [==============================] - 21s 3ms/step - loss: 0.0088\n",
            "Epoch 92/100\n",
            "7548/7548 [==============================] - 22s 3ms/step - loss: 0.0088\n",
            "Epoch 93/100\n",
            "7548/7548 [==============================] - 22s 3ms/step - loss: 0.0088\n",
            "Epoch 94/100\n",
            "7548/7548 [==============================] - 20s 3ms/step - loss: 0.0088\n",
            "Epoch 95/100\n",
            "7548/7548 [==============================] - 21s 3ms/step - loss: 0.0088\n",
            "Epoch 96/100\n",
            "7548/7548 [==============================] - 22s 3ms/step - loss: 0.0088\n",
            "Epoch 97/100\n",
            "7548/7548 [==============================] - 21s 3ms/step - loss: 0.0088\n",
            "Epoch 98/100\n",
            "7548/7548 [==============================] - 21s 3ms/step - loss: 0.0088\n",
            "Epoch 99/100\n",
            "7548/7548 [==============================] - 22s 3ms/step - loss: 0.0088\n",
            "Epoch 100/100\n",
            "7548/7548 [==============================] - 22s 3ms/step - loss: 0.0088\n"
          ]
        },
        {
          "output_type": "execute_result",
          "data": {
            "text/plain": [
              "<keras.src.callbacks.History at 0x7bd9e621c4f0>"
            ]
          },
          "metadata": {},
          "execution_count": 66
        }
      ]
    },
    {
      "cell_type": "markdown",
      "metadata": {
        "id": "fWQBiFMBHmhp"
      },
      "source": [
        "\n",
        "Evaluate model"
      ]
    },
    {
      "cell_type": "code",
      "source": [
        "X_train = X_train.reshape(-1, 1)\n"
      ],
      "metadata": {
        "id": "Uwark0ZN8Trc"
      },
      "execution_count": 85,
      "outputs": []
    },
    {
      "cell_type": "code",
      "source": [
        "# Reshape X_test\n",
        "X_test_reshaped = X_test.reshape(X_test.shape[0], 1, 1)\n"
      ],
      "metadata": {
        "id": "4udjNUlf8rwI"
      },
      "execution_count": 86,
      "outputs": []
    },
    {
      "cell_type": "code",
      "source": [
        "# Assuming you have made predictions using your model and stored them in 'predictions'\n",
        "predictions = model.predict(X_test)"
      ],
      "metadata": {
        "colab": {
          "base_uri": "https://localhost:8080/",
          "height": 842
        },
        "id": "NhpAMBB1774j",
        "outputId": "ac911154-84bc-4c7b-9373-f52870db65e4"
      },
      "execution_count": 87,
      "outputs": [
        {
          "output_type": "error",
          "ename": "ValueError",
          "evalue": "in user code:\n\n    File \"/usr/local/lib/python3.10/dist-packages/keras/src/engine/training.py\", line 2440, in predict_function  *\n        return step_function(self, iterator)\n    File \"/usr/local/lib/python3.10/dist-packages/keras/src/engine/training.py\", line 2425, in step_function  **\n        outputs = model.distribute_strategy.run(run_step, args=(data,))\n    File \"/usr/local/lib/python3.10/dist-packages/keras/src/engine/training.py\", line 2413, in run_step  **\n        outputs = model.predict_step(data)\n    File \"/usr/local/lib/python3.10/dist-packages/keras/src/engine/training.py\", line 2381, in predict_step\n        return self(x, training=False)\n    File \"/usr/local/lib/python3.10/dist-packages/keras/src/utils/traceback_utils.py\", line 70, in error_handler\n        raise e.with_traceback(filtered_tb) from None\n    File \"/usr/local/lib/python3.10/dist-packages/keras/src/engine/input_spec.py\", line 235, in assert_input_compatibility\n        raise ValueError(\n\n    ValueError: Exception encountered when calling layer 'sequential_4' (type Sequential).\n    \n    Input 0 of layer \"lstm_8\" is incompatible with the layer: expected ndim=3, found ndim=1. Full shape received: (32,)\n    \n    Call arguments received by layer 'sequential_4' (type Sequential):\n      • inputs=tf.Tensor(shape=(32,), dtype=float32)\n      • training=False\n      • mask=None\n",
          "traceback": [
            "\u001b[0;31m---------------------------------------------------------------------------\u001b[0m",
            "\u001b[0;31mValueError\u001b[0m                                Traceback (most recent call last)",
            "\u001b[0;32m<ipython-input-87-3d65703cd1de>\u001b[0m in \u001b[0;36m<cell line: 2>\u001b[0;34m()\u001b[0m\n\u001b[1;32m      1\u001b[0m \u001b[0;31m# Assuming you have made predictions using your model and stored them in 'predictions'\u001b[0m\u001b[0;34m\u001b[0m\u001b[0;34m\u001b[0m\u001b[0m\n\u001b[0;32m----> 2\u001b[0;31m \u001b[0mpredictions\u001b[0m \u001b[0;34m=\u001b[0m \u001b[0mmodel\u001b[0m\u001b[0;34m.\u001b[0m\u001b[0mpredict\u001b[0m\u001b[0;34m(\u001b[0m\u001b[0mX_test\u001b[0m\u001b[0;34m)\u001b[0m\u001b[0;34m\u001b[0m\u001b[0;34m\u001b[0m\u001b[0m\n\u001b[0m",
            "\u001b[0;32m/usr/local/lib/python3.10/dist-packages/keras/src/utils/traceback_utils.py\u001b[0m in \u001b[0;36merror_handler\u001b[0;34m(*args, **kwargs)\u001b[0m\n\u001b[1;32m     68\u001b[0m             \u001b[0;31m# To get the full stack trace, call:\u001b[0m\u001b[0;34m\u001b[0m\u001b[0;34m\u001b[0m\u001b[0m\n\u001b[1;32m     69\u001b[0m             \u001b[0;31m# `tf.debugging.disable_traceback_filtering()`\u001b[0m\u001b[0;34m\u001b[0m\u001b[0;34m\u001b[0m\u001b[0m\n\u001b[0;32m---> 70\u001b[0;31m             \u001b[0;32mraise\u001b[0m \u001b[0me\u001b[0m\u001b[0;34m.\u001b[0m\u001b[0mwith_traceback\u001b[0m\u001b[0;34m(\u001b[0m\u001b[0mfiltered_tb\u001b[0m\u001b[0;34m)\u001b[0m \u001b[0;32mfrom\u001b[0m \u001b[0;32mNone\u001b[0m\u001b[0;34m\u001b[0m\u001b[0;34m\u001b[0m\u001b[0m\n\u001b[0m\u001b[1;32m     71\u001b[0m         \u001b[0;32mfinally\u001b[0m\u001b[0;34m:\u001b[0m\u001b[0;34m\u001b[0m\u001b[0;34m\u001b[0m\u001b[0m\n\u001b[1;32m     72\u001b[0m             \u001b[0;32mdel\u001b[0m \u001b[0mfiltered_tb\u001b[0m\u001b[0;34m\u001b[0m\u001b[0;34m\u001b[0m\u001b[0m\n",
            "\u001b[0;32m/usr/local/lib/python3.10/dist-packages/keras/src/engine/training.py\u001b[0m in \u001b[0;36mtf__predict_function\u001b[0;34m(iterator)\u001b[0m\n\u001b[1;32m     13\u001b[0m                 \u001b[0;32mtry\u001b[0m\u001b[0;34m:\u001b[0m\u001b[0;34m\u001b[0m\u001b[0;34m\u001b[0m\u001b[0m\n\u001b[1;32m     14\u001b[0m                     \u001b[0mdo_return\u001b[0m \u001b[0;34m=\u001b[0m \u001b[0;32mTrue\u001b[0m\u001b[0;34m\u001b[0m\u001b[0;34m\u001b[0m\u001b[0m\n\u001b[0;32m---> 15\u001b[0;31m                     \u001b[0mretval_\u001b[0m \u001b[0;34m=\u001b[0m \u001b[0mag__\u001b[0m\u001b[0;34m.\u001b[0m\u001b[0mconverted_call\u001b[0m\u001b[0;34m(\u001b[0m\u001b[0mag__\u001b[0m\u001b[0;34m.\u001b[0m\u001b[0mld\u001b[0m\u001b[0;34m(\u001b[0m\u001b[0mstep_function\u001b[0m\u001b[0;34m)\u001b[0m\u001b[0;34m,\u001b[0m \u001b[0;34m(\u001b[0m\u001b[0mag__\u001b[0m\u001b[0;34m.\u001b[0m\u001b[0mld\u001b[0m\u001b[0;34m(\u001b[0m\u001b[0mself\u001b[0m\u001b[0;34m)\u001b[0m\u001b[0;34m,\u001b[0m \u001b[0mag__\u001b[0m\u001b[0;34m.\u001b[0m\u001b[0mld\u001b[0m\u001b[0;34m(\u001b[0m\u001b[0miterator\u001b[0m\u001b[0;34m)\u001b[0m\u001b[0;34m)\u001b[0m\u001b[0;34m,\u001b[0m \u001b[0;32mNone\u001b[0m\u001b[0;34m,\u001b[0m \u001b[0mfscope\u001b[0m\u001b[0;34m)\u001b[0m\u001b[0;34m\u001b[0m\u001b[0;34m\u001b[0m\u001b[0m\n\u001b[0m\u001b[1;32m     16\u001b[0m                 \u001b[0;32mexcept\u001b[0m\u001b[0;34m:\u001b[0m\u001b[0;34m\u001b[0m\u001b[0;34m\u001b[0m\u001b[0m\n\u001b[1;32m     17\u001b[0m                     \u001b[0mdo_return\u001b[0m \u001b[0;34m=\u001b[0m \u001b[0;32mFalse\u001b[0m\u001b[0;34m\u001b[0m\u001b[0;34m\u001b[0m\u001b[0m\n",
            "\u001b[0;31mValueError\u001b[0m: in user code:\n\n    File \"/usr/local/lib/python3.10/dist-packages/keras/src/engine/training.py\", line 2440, in predict_function  *\n        return step_function(self, iterator)\n    File \"/usr/local/lib/python3.10/dist-packages/keras/src/engine/training.py\", line 2425, in step_function  **\n        outputs = model.distribute_strategy.run(run_step, args=(data,))\n    File \"/usr/local/lib/python3.10/dist-packages/keras/src/engine/training.py\", line 2413, in run_step  **\n        outputs = model.predict_step(data)\n    File \"/usr/local/lib/python3.10/dist-packages/keras/src/engine/training.py\", line 2381, in predict_step\n        return self(x, training=False)\n    File \"/usr/local/lib/python3.10/dist-packages/keras/src/utils/traceback_utils.py\", line 70, in error_handler\n        raise e.with_traceback(filtered_tb) from None\n    File \"/usr/local/lib/python3.10/dist-packages/keras/src/engine/input_spec.py\", line 235, in assert_input_compatibility\n        raise ValueError(\n\n    ValueError: Exception encountered when calling layer 'sequential_4' (type Sequential).\n    \n    Input 0 of layer \"lstm_8\" is incompatible with the layer: expected ndim=3, found ndim=1. Full shape received: (32,)\n    \n    Call arguments received by layer 'sequential_4' (type Sequential):\n      • inputs=tf.Tensor(shape=(32,), dtype=float32)\n      • training=False\n      • mask=None\n"
          ]
        }
      ]
    },
    {
      "cell_type": "code",
      "source": [
        "# Example evaluation using mean squared error\n",
        "from sklearn.metrics import mean_squared_error\n",
        "mse = mean_squared_error(y_test, predictions)\n",
        "print(\"Mean Squared Error:\", mse)"
      ],
      "metadata": {
        "colab": {
          "base_uri": "https://localhost:8080/",
          "height": 193
        },
        "id": "PqB4Tm5q8G0s",
        "outputId": "09d74678-fb7e-48c5-f4bb-d1023e3584b2"
      },
      "execution_count": 81,
      "outputs": [
        {
          "output_type": "error",
          "ename": "NameError",
          "evalue": "name 'predictions' is not defined",
          "traceback": [
            "\u001b[0;31m---------------------------------------------------------------------------\u001b[0m",
            "\u001b[0;31mNameError\u001b[0m                                 Traceback (most recent call last)",
            "\u001b[0;32m<ipython-input-81-e363ff9d98e9>\u001b[0m in \u001b[0;36m<cell line: 3>\u001b[0;34m()\u001b[0m\n\u001b[1;32m      1\u001b[0m \u001b[0;31m# Example evaluation using mean squared error\u001b[0m\u001b[0;34m\u001b[0m\u001b[0;34m\u001b[0m\u001b[0m\n\u001b[1;32m      2\u001b[0m \u001b[0;32mfrom\u001b[0m \u001b[0msklearn\u001b[0m\u001b[0;34m.\u001b[0m\u001b[0mmetrics\u001b[0m \u001b[0;32mimport\u001b[0m \u001b[0mmean_squared_error\u001b[0m\u001b[0;34m\u001b[0m\u001b[0;34m\u001b[0m\u001b[0m\n\u001b[0;32m----> 3\u001b[0;31m \u001b[0mmse\u001b[0m \u001b[0;34m=\u001b[0m \u001b[0mmean_squared_error\u001b[0m\u001b[0;34m(\u001b[0m\u001b[0my_test\u001b[0m\u001b[0;34m,\u001b[0m \u001b[0mpredictions\u001b[0m\u001b[0;34m)\u001b[0m\u001b[0;34m\u001b[0m\u001b[0;34m\u001b[0m\u001b[0m\n\u001b[0m\u001b[1;32m      4\u001b[0m \u001b[0mprint\u001b[0m\u001b[0;34m(\u001b[0m\u001b[0;34m\"Mean Squared Error:\"\u001b[0m\u001b[0;34m,\u001b[0m \u001b[0mmse\u001b[0m\u001b[0;34m)\u001b[0m\u001b[0;34m\u001b[0m\u001b[0;34m\u001b[0m\u001b[0m\n",
            "\u001b[0;31mNameError\u001b[0m: name 'predictions' is not defined"
          ]
        }
      ]
    },
    {
      "cell_type": "code",
      "source": [
        "\n",
        "# Reshape input data to match the expected input shape of the model\n",
        "X_test_reshaped = X_test.reshape(X_test.shape[0], 1, X_test.shape[1])\n",
        "\n",
        "\n"
      ],
      "metadata": {
        "colab": {
          "base_uri": "https://localhost:8080/",
          "height": 193
        },
        "id": "9MeClGqT6qMQ",
        "outputId": "fa3740cc-f71b-4630-899e-12e517725395"
      },
      "execution_count": 79,
      "outputs": [
        {
          "output_type": "error",
          "ename": "IndexError",
          "evalue": "tuple index out of range",
          "traceback": [
            "\u001b[0;31m---------------------------------------------------------------------------\u001b[0m",
            "\u001b[0;31mIndexError\u001b[0m                                Traceback (most recent call last)",
            "\u001b[0;32m<ipython-input-79-cff10eccff7e>\u001b[0m in \u001b[0;36m<cell line: 2>\u001b[0;34m()\u001b[0m\n\u001b[1;32m      1\u001b[0m \u001b[0;31m# Reshape input data to match the expected input shape of the model\u001b[0m\u001b[0;34m\u001b[0m\u001b[0;34m\u001b[0m\u001b[0m\n\u001b[0;32m----> 2\u001b[0;31m \u001b[0mX_test_reshaped\u001b[0m \u001b[0;34m=\u001b[0m \u001b[0mX_test\u001b[0m\u001b[0;34m.\u001b[0m\u001b[0mreshape\u001b[0m\u001b[0;34m(\u001b[0m\u001b[0mX_test\u001b[0m\u001b[0;34m.\u001b[0m\u001b[0mshape\u001b[0m\u001b[0;34m[\u001b[0m\u001b[0;36m0\u001b[0m\u001b[0;34m]\u001b[0m\u001b[0;34m,\u001b[0m \u001b[0;36m1\u001b[0m\u001b[0;34m,\u001b[0m \u001b[0mX_test\u001b[0m\u001b[0;34m.\u001b[0m\u001b[0mshape\u001b[0m\u001b[0;34m[\u001b[0m\u001b[0;36m1\u001b[0m\u001b[0;34m]\u001b[0m\u001b[0;34m)\u001b[0m\u001b[0;34m\u001b[0m\u001b[0;34m\u001b[0m\u001b[0m\n\u001b[0m\u001b[1;32m      3\u001b[0m \u001b[0;34m\u001b[0m\u001b[0m\n\u001b[1;32m      4\u001b[0m \u001b[0;34m\u001b[0m\u001b[0m\n",
            "\u001b[0;31mIndexError\u001b[0m: tuple index out of range"
          ]
        }
      ]
    },
    {
      "cell_type": "code",
      "execution_count": 75,
      "metadata": {
        "id": "8Ik3tpSeGkUd",
        "colab": {
          "base_uri": "https://localhost:8080/",
          "height": 193
        },
        "outputId": "20d3f86a-6e22-4b9a-f743-6960cf2538d3"
      },
      "outputs": [
        {
          "output_type": "error",
          "ename": "NameError",
          "evalue": "name 'predictions' is not defined",
          "traceback": [
            "\u001b[0;31m---------------------------------------------------------------------------\u001b[0m",
            "\u001b[0;31mNameError\u001b[0m                                 Traceback (most recent call last)",
            "\u001b[0;32m<ipython-input-75-30dd2022fed1>\u001b[0m in \u001b[0;36m<cell line: 3>\u001b[0;34m()\u001b[0m\n\u001b[1;32m      1\u001b[0m \u001b[0;31m# Example evaluation (you can use other metrics as well)\u001b[0m\u001b[0;34m\u001b[0m\u001b[0;34m\u001b[0m\u001b[0m\n\u001b[1;32m      2\u001b[0m \u001b[0;32mfrom\u001b[0m \u001b[0msklearn\u001b[0m\u001b[0;34m.\u001b[0m\u001b[0mmetrics\u001b[0m \u001b[0;32mimport\u001b[0m \u001b[0mmean_squared_error\u001b[0m\u001b[0;34m\u001b[0m\u001b[0;34m\u001b[0m\u001b[0m\n\u001b[0;32m----> 3\u001b[0;31m \u001b[0mmse\u001b[0m \u001b[0;34m=\u001b[0m \u001b[0mmean_squared_error\u001b[0m\u001b[0;34m(\u001b[0m\u001b[0my_test\u001b[0m\u001b[0;34m,\u001b[0m \u001b[0mpredictions\u001b[0m\u001b[0;34m)\u001b[0m\u001b[0;34m\u001b[0m\u001b[0;34m\u001b[0m\u001b[0m\n\u001b[0m\u001b[1;32m      4\u001b[0m \u001b[0mprint\u001b[0m\u001b[0;34m(\u001b[0m\u001b[0;34m\"Mean Squared Error:\"\u001b[0m\u001b[0;34m,\u001b[0m \u001b[0mmse\u001b[0m\u001b[0;34m)\u001b[0m\u001b[0;34m\u001b[0m\u001b[0;34m\u001b[0m\u001b[0m\n",
            "\u001b[0;31mNameError\u001b[0m: name 'predictions' is not defined"
          ]
        }
      ],
      "source": [
        "# Example evaluation (you can use other metrics as well)\n",
        "from sklearn.metrics import mean_squared_error\n",
        "mse = mean_squared_error(y_test, predictions)\n",
        "print(\"Mean Squared Error:\", mse)"
      ]
    },
    {
      "cell_type": "code",
      "execution_count": null,
      "metadata": {
        "id": "CM5ahRoIHt0v"
      },
      "outputs": [],
      "source": [
        "# Visualize results\n",
        "plt.figure(figsize=(10,6))\n",
        "\n",
        "# Plot the actual values\n",
        "plt.plot(y_test, color='blue', label='Actual Price')\n",
        "\n",
        "# Plot the predicted values\n",
        "plt.plot(predictions, color='red', label='Predicted Price')\n",
        "\n",
        "# Add a title and labels\n",
        "plt.title('Bitcoin Price Prediction')\n",
        "plt.xlabel('Time')\n",
        "plt.ylabel('Price')\n",
        "\n",
        "# Add a legend\n",
        "plt.legend()\n",
        "\n",
        "# Add a text box with the MSE\n",
        "mse = 0.0008014469372508035\n",
        "plt.text(0.5, 0.5, f\"MSE = {mse:.4f}\", transform=plt.gca().transAxes, ha='center', va='center', fontsize=12, bbox={'facecolor': 'white', 'alpha': 0.5, 'pad': 10})\n",
        "\n",
        "# Show the plot\n",
        "plt.show()\n"
      ]
    },
    {
      "cell_type": "code",
      "execution_count": null,
      "metadata": {
        "id": "jG4ljr_eJM-J"
      },
      "outputs": [],
      "source": [
        "# Calculate Root Mean Squared Error (RMSE)\n",
        "rmse = np.sqrt(mse)\n",
        "print(\"Root Mean Squared Error (RMSE):\", rmse)"
      ]
    },
    {
      "cell_type": "code",
      "execution_count": null,
      "metadata": {
        "id": "SiUjHzqaJTA6"
      },
      "outputs": [],
      "source": [
        "# Visualize results\n",
        "# Visualize results\n",
        "plt.figure(figsize=(10,6))\n",
        "\n",
        "# Plot the actual values\n",
        "plt.plot(y_test, color='blue', label='Actual Price')\n",
        "\n",
        "# Plot the predicted values\n",
        "plt.plot(predictions, color='red', label='Predicted Price')\n",
        "\n",
        "# Add a title and labels\n",
        "plt.title('Bitcoin Price Prediction')\n",
        "plt.xlabel('Time')\n",
        "plt.ylabel('Price')\n",
        "\n",
        "# Add a legend\n",
        "plt.legend()\n",
        "\n",
        "# Calculate the RMSE\n",
        "rmse = np.sqrt(mean_squared_error(y_test, predictions))\n",
        "\n",
        "# Add a text box with the RMSE\n",
        "plt.text(0.5, 0.5, f\"RMSE = {rmse:.4f}\", transform=plt.gca().transAxes, ha='center', va='center', fontsize=12, bbox={'facecolor': 'white', 'alpha': 0.5, 'pad': 10})\n",
        "\n",
        "# Show the plot\n",
        "plt.show()"
      ]
    },
    {
      "cell_type": "code",
      "execution_count": null,
      "metadata": {
        "id": "V0ycQAA6JuEh"
      },
      "outputs": [],
      "source": [
        "mae = np.mean(np.abs(y_test - predictions))\n",
        "print(\"Mean Absolute Error (MAE):\", mae)"
      ]
    },
    {
      "cell_type": "code",
      "execution_count": null,
      "metadata": {
        "id": "ViBIrcBgLxKw"
      },
      "outputs": [],
      "source": [
        "mape = np.mean(np.abs((y_test - predictions) / y_test)) * 100\n",
        "print(\"Mean Absolute Percentage Error (MAPE):\", mape)"
      ]
    },
    {
      "cell_type": "code",
      "execution_count": null,
      "metadata": {
        "colab": {
          "background_save": true
        },
        "id": "bW7L1gvxMMnm"
      },
      "outputs": [],
      "source": [
        "from sklearn.metrics import r2_score\n",
        "r2_score = r2_score(y_test, predictions)\n",
        "print(\"R-squared (R2) score:\", r2_score)"
      ]
    },
    {
      "cell_type": "code",
      "execution_count": null,
      "metadata": {
        "id": "a4zjrjWAIFmz"
      },
      "outputs": [],
      "source": []
    }
  ],
  "metadata": {
    "colab": {
      "provenance": [],
      "authorship_tag": "ABX9TyNja+lzgGnJ4B2XoJ7qJF3u",
      "include_colab_link": true
    },
    "kernelspec": {
      "display_name": "Python 3",
      "name": "python3"
    },
    "language_info": {
      "name": "python"
    }
  },
  "nbformat": 4,
  "nbformat_minor": 0
}