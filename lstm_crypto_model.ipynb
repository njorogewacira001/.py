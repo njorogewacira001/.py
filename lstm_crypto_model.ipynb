{
  "nbformat": 4,
  "nbformat_minor": 0,
  "metadata": {
    "colab": {
      "provenance": [],
      "authorship_tag": "ABX9TyOBcnFDsEiDIG5g8bhBJKM8",
      "include_colab_link": true
    },
    "kernelspec": {
      "name": "python3",
      "display_name": "Python 3"
    },
    "language_info": {
      "name": "python"
    }
  },
  "cells": [
    {
      "cell_type": "markdown",
      "metadata": {
        "id": "view-in-github",
        "colab_type": "text"
      },
      "source": [
        "<a href=\"https://colab.research.google.com/github/njorogewacira001/.py/blob/main/lstm_crypto_model.ipynb\" target=\"_parent\"><img src=\"https://colab.research.google.com/assets/colab-badge.svg\" alt=\"Open In Colab\"/></a>"
      ]
    },
    {
      "cell_type": "code",
      "source": [
        "# Dataset source: https://www.kaggle.com/datasets/sudalairajkumar/cryptocurrency-historical-prices-coingecko\n",
        "# Description: This dataset contains historical cryptocurrency prices from CoinGecko."
      ],
      "metadata": {
        "id": "GoZIinvx0jSc"
      },
      "execution_count": 39,
      "outputs": []
    },
    {
      "cell_type": "code",
      "execution_count": 21,
      "metadata": {
        "colab": {
          "base_uri": "https://localhost:8080/"
        },
        "id": "uqwIZfOMYfax",
        "outputId": "5d6c464f-f62f-45cf-b4c0-b911d5932d61"
      },
      "outputs": [
        {
          "output_type": "stream",
          "name": "stdout",
          "text": [
            "Requirement already satisfied: kaggle in /usr/local/lib/python3.10/dist-packages (1.5.16)\n",
            "Requirement already satisfied: six>=1.10 in /usr/local/lib/python3.10/dist-packages (from kaggle) (1.16.0)\n",
            "Requirement already satisfied: certifi in /usr/local/lib/python3.10/dist-packages (from kaggle) (2024.2.2)\n",
            "Requirement already satisfied: python-dateutil in /usr/local/lib/python3.10/dist-packages (from kaggle) (2.8.2)\n",
            "Requirement already satisfied: requests in /usr/local/lib/python3.10/dist-packages (from kaggle) (2.31.0)\n",
            "Requirement already satisfied: tqdm in /usr/local/lib/python3.10/dist-packages (from kaggle) (4.66.2)\n",
            "Requirement already satisfied: python-slugify in /usr/local/lib/python3.10/dist-packages (from kaggle) (8.0.4)\n",
            "Requirement already satisfied: urllib3 in /usr/local/lib/python3.10/dist-packages (from kaggle) (2.0.7)\n",
            "Requirement already satisfied: bleach in /usr/local/lib/python3.10/dist-packages (from kaggle) (6.1.0)\n",
            "Requirement already satisfied: webencodings in /usr/local/lib/python3.10/dist-packages (from bleach->kaggle) (0.5.1)\n",
            "Requirement already satisfied: text-unidecode>=1.3 in /usr/local/lib/python3.10/dist-packages (from python-slugify->kaggle) (1.3)\n",
            "Requirement already satisfied: charset-normalizer<4,>=2 in /usr/local/lib/python3.10/dist-packages (from requests->kaggle) (3.3.2)\n",
            "Requirement already satisfied: idna<4,>=2.5 in /usr/local/lib/python3.10/dist-packages (from requests->kaggle) (3.6)\n"
          ]
        }
      ],
      "source": [
        "!pip install kaggle"
      ]
    },
    {
      "cell_type": "code",
      "source": [
        "from google.colab import drive\n",
        "drive.mount('/content/drive')"
      ],
      "metadata": {
        "colab": {
          "base_uri": "https://localhost:8080/"
        },
        "id": "36M6B_fJYrI-",
        "outputId": "d0865f86-b44d-4ee8-fbb5-b671b6f4f649"
      },
      "execution_count": 3,
      "outputs": [
        {
          "output_type": "stream",
          "name": "stdout",
          "text": [
            "Mounted at /content/drive\n"
          ]
        }
      ]
    },
    {
      "cell_type": "code",
      "source": [
        "! mkdir ~/.kaggle"
      ],
      "metadata": {
        "id": "FhGZ5t_cZuit"
      },
      "execution_count": 4,
      "outputs": []
    },
    {
      "cell_type": "code",
      "source": [
        "!cp /content/drive/MyDrive/kaggle.json /content/drive/MyDrive/kaggle.json"
      ],
      "metadata": {
        "colab": {
          "base_uri": "https://localhost:8080/"
        },
        "id": "bQEc35WzdBBp",
        "outputId": "8a66c895-ec25-4632-c539-59289c9d66b7"
      },
      "execution_count": 5,
      "outputs": [
        {
          "output_type": "stream",
          "name": "stdout",
          "text": [
            "cp: '/content/drive/MyDrive/kaggle.json' and '/content/drive/MyDrive/kaggle.json' are the same file\n"
          ]
        }
      ]
    },
    {
      "cell_type": "code",
      "source": [
        "!chmod 600 /content/drive/MyDrive/kaggle.json"
      ],
      "metadata": {
        "id": "P49Uatqsd9oB"
      },
      "execution_count": 6,
      "outputs": []
    },
    {
      "cell_type": "code",
      "source": [
        "import os\n",
        "os.environ['KAGGLE_CONFIG_DIR'] = '/content/drive/MyDrive'"
      ],
      "metadata": {
        "id": "zDwIB9MRhVwP"
      },
      "execution_count": 7,
      "outputs": []
    },
    {
      "cell_type": "code",
      "source": [
        "!kaggle datasets download -d sudalairajkumar/cryptocurrency-historical-prices-coingecko"
      ],
      "metadata": {
        "colab": {
          "base_uri": "https://localhost:8080/"
        },
        "id": "HuJTARc3hlgJ",
        "outputId": "30acc5ca-830a-48d4-9c15-6d0df2600094"
      },
      "execution_count": 8,
      "outputs": [
        {
          "output_type": "stream",
          "name": "stdout",
          "text": [
            "Downloading cryptocurrency-historical-prices-coingecko.zip to /content\n",
            "\r  0% 0.00/2.95M [00:00<?, ?B/s]\n",
            "\r100% 2.95M/2.95M [00:00<00:00, 170MB/s]\n"
          ]
        }
      ]
    },
    {
      "cell_type": "code",
      "source": [
        "!ls /content\n"
      ],
      "metadata": {
        "colab": {
          "base_uri": "https://localhost:8080/"
        },
        "id": "WaHJRR7_iEJB",
        "outputId": "bd28fd21-3b2e-4780-97fd-8d51a34760d2"
      },
      "execution_count": 9,
      "outputs": [
        {
          "output_type": "stream",
          "name": "stdout",
          "text": [
            "cryptocurrency-historical-prices-coingecko.zip\tdrive  sample_data\n"
          ]
        }
      ]
    },
    {
      "cell_type": "code",
      "source": [
        "import zipfile\n",
        "import os\n",
        "\n",
        "# Path to the zip file\n",
        "zip_path = \"cryptocurrency-historical-prices-coingecko.zip\"\n",
        "# Path to extract the files\n",
        "extract_path = \"/content\"\n",
        "\n",
        "# Create a directory to extract the files\n",
        "os.makedirs(extract_path, exist_ok=True)\n",
        "\n",
        "# Extract the zip file\n",
        "with zipfile.ZipFile(zip_path, 'r') as zip_ref:\n",
        "    zip_ref.extractall(extract_path)\n",
        "\n",
        "# List the extracted files\n",
        "extracted_files = os.listdir(extract_path)\n",
        "print(\"Extracted files:\", extracted_files)\n"
      ],
      "metadata": {
        "colab": {
          "base_uri": "https://localhost:8080/"
        },
        "id": "pPNqaJmblPsL",
        "outputId": "7e574850-b883-45d1-dd6d-feb9b74fb72c"
      },
      "execution_count": 12,
      "outputs": [
        {
          "output_type": "stream",
          "name": "stdout",
          "text": [
            "Extracted files: ['.config', 'axie-infinity.csv', 'chain-2.csv', 'tron.csv', 'theta-token.csv', 'hedera-hashgraph.csv', 'cryptocurrency-historical-prices-coingecko.zip', 'okb.csv', 'cryptocurrency-historical-prices-coingecko', 'ripple.csv', 'bitcoin.csv', 'filecoin.csv', 'ftx-token.csv', 'flow.csv', 'crypto-com-chain.csv', 'chainlink.csv', 'dogecoin.csv', 'usd-coin.csv', 'litecoin.csv', 'vechain.csv', 'wrapped-bitcoin.csv', 'ethereum-classic.csv', 'algorand.csv', 'leo-token.csv', 'cardano.csv', 'tezos.csv', 'staked-ether.csv', 'decentraland.csv', 'cosmos.csv', 'polkadot.csv', 'internet-computer.csv', 'apecoin.csv', 'shiba-inu.csv', 'matic-network.csv', 'avalanche-2.csv', 'quant-network.csv', 'terra-luna.csv', 'solana.csv', 'chiliz.csv', 'ethereum.csv', 'drive', 'eos.csv', 'near.csv', 'lido-dao.csv', 'monero.csv', 'bitcoin-cash.csv', 'stellar.csv', 'uniswap.csv', 'binance-usd.csv', 'frax.csv', 'tether.csv', 'dai.csv', 'binancecoin.csv', 'the-sandbox.csv', 'sample_data']\n"
          ]
        }
      ]
    },
    {
      "cell_type": "code",
      "source": [
        "print(csv_files)\n"
      ],
      "metadata": {
        "colab": {
          "base_uri": "https://localhost:8080/"
        },
        "id": "8VBRgQpDHhAS",
        "outputId": "c86a3ce3-7a90-4ead-c4f5-e583071f83ff"
      },
      "execution_count": 31,
      "outputs": [
        {
          "output_type": "stream",
          "name": "stdout",
          "text": [
            "['/content/cryptocurrency-historical-prices-coingecko/axie-infinity.csv', '/content/cryptocurrency-historical-prices-coingecko/chain-2.csv', '/content/cryptocurrency-historical-prices-coingecko/tron.csv', '/content/cryptocurrency-historical-prices-coingecko/theta-token.csv', '/content/cryptocurrency-historical-prices-coingecko/hedera-hashgraph.csv', '/content/cryptocurrency-historical-prices-coingecko/okb.csv', '/content/cryptocurrency-historical-prices-coingecko/ripple.csv', '/content/cryptocurrency-historical-prices-coingecko/bitcoin.csv', '/content/cryptocurrency-historical-prices-coingecko/filecoin.csv', '/content/cryptocurrency-historical-prices-coingecko/ftx-token.csv', '/content/cryptocurrency-historical-prices-coingecko/flow.csv', '/content/cryptocurrency-historical-prices-coingecko/crypto-com-chain.csv', '/content/cryptocurrency-historical-prices-coingecko/chainlink.csv', '/content/cryptocurrency-historical-prices-coingecko/dogecoin.csv', '/content/cryptocurrency-historical-prices-coingecko/usd-coin.csv', '/content/cryptocurrency-historical-prices-coingecko/litecoin.csv', '/content/cryptocurrency-historical-prices-coingecko/vechain.csv', '/content/cryptocurrency-historical-prices-coingecko/wrapped-bitcoin.csv', '/content/cryptocurrency-historical-prices-coingecko/ethereum-classic.csv', '/content/cryptocurrency-historical-prices-coingecko/algorand.csv', '/content/cryptocurrency-historical-prices-coingecko/leo-token.csv', '/content/cryptocurrency-historical-prices-coingecko/cardano.csv', '/content/cryptocurrency-historical-prices-coingecko/tezos.csv', '/content/cryptocurrency-historical-prices-coingecko/staked-ether.csv', '/content/cryptocurrency-historical-prices-coingecko/decentraland.csv', '/content/cryptocurrency-historical-prices-coingecko/cosmos.csv', '/content/cryptocurrency-historical-prices-coingecko/polkadot.csv', '/content/cryptocurrency-historical-prices-coingecko/internet-computer.csv', '/content/cryptocurrency-historical-prices-coingecko/apecoin.csv', '/content/cryptocurrency-historical-prices-coingecko/shiba-inu.csv', '/content/cryptocurrency-historical-prices-coingecko/matic-network.csv', '/content/cryptocurrency-historical-prices-coingecko/avalanche-2.csv', '/content/cryptocurrency-historical-prices-coingecko/quant-network.csv', '/content/cryptocurrency-historical-prices-coingecko/terra-luna.csv', '/content/cryptocurrency-historical-prices-coingecko/solana.csv', '/content/cryptocurrency-historical-prices-coingecko/chiliz.csv', '/content/cryptocurrency-historical-prices-coingecko/ethereum.csv', '/content/cryptocurrency-historical-prices-coingecko/eos.csv', '/content/cryptocurrency-historical-prices-coingecko/near.csv', '/content/cryptocurrency-historical-prices-coingecko/lido-dao.csv', '/content/cryptocurrency-historical-prices-coingecko/monero.csv', '/content/cryptocurrency-historical-prices-coingecko/bitcoin-cash.csv', '/content/cryptocurrency-historical-prices-coingecko/stellar.csv', '/content/cryptocurrency-historical-prices-coingecko/uniswap.csv', '/content/cryptocurrency-historical-prices-coingecko/binance-usd.csv', '/content/cryptocurrency-historical-prices-coingecko/frax.csv', '/content/cryptocurrency-historical-prices-coingecko/tether.csv', '/content/cryptocurrency-historical-prices-coingecko/dai.csv', '/content/cryptocurrency-historical-prices-coingecko/binancecoin.csv', '/content/cryptocurrency-historical-prices-coingecko/the-sandbox.csv']\n"
          ]
        }
      ]
    },
    {
      "cell_type": "code",
      "source": [
        "print(\"Length of df_list:\", len(df_list))"
      ],
      "metadata": {
        "colab": {
          "base_uri": "https://localhost:8080/"
        },
        "id": "Wj7ftjL0k1WN",
        "outputId": "545bffc4-cc6d-4e75-cde0-35f421498c57"
      },
      "execution_count": 32,
      "outputs": [
        {
          "output_type": "stream",
          "name": "stdout",
          "text": [
            "Length of df_list: 50\n"
          ]
        }
      ]
    },
    {
      "cell_type": "code",
      "source": [
        "print(\"Shape of merged_df:\", merged_df.shape)\n"
      ],
      "metadata": {
        "colab": {
          "base_uri": "https://localhost:8080/"
        },
        "id": "xSdRGGF6lEJE",
        "outputId": "d2a0d18b-c769-4c8e-eceb-b2a0d7f95a17"
      },
      "execution_count": 33,
      "outputs": [
        {
          "output_type": "stream",
          "name": "stdout",
          "text": [
            "Shape of merged_df: (98828, 4)\n"
          ]
        }
      ]
    },
    {
      "cell_type": "code",
      "source": [
        "print(\"Number of unique coins:\", merged_df['coin_name'].nunique())\n"
      ],
      "metadata": {
        "colab": {
          "base_uri": "https://localhost:8080/"
        },
        "id": "74LOoVculHJQ",
        "outputId": "fd9ee9d3-0f0c-4716-e55d-c1a5d18ec840"
      },
      "execution_count": 34,
      "outputs": [
        {
          "output_type": "stream",
          "name": "stdout",
          "text": [
            "Number of unique coins: 50\n"
          ]
        }
      ]
    },
    {
      "cell_type": "code",
      "source": [
        "#load the extrated dataset\n",
        "# the CSV file name\n",
        "file_name = '/content/data/data.csv'\n"
      ],
      "metadata": {
        "id": "YZCA4sYS0uxF"
      },
      "execution_count": 37,
      "outputs": []
    },
    {
      "cell_type": "code",
      "source": [
        "# Dictionary to hold DataFrames for each cryptocurrency\n",
        "#crypto_data = {}\n"
      ],
      "metadata": {
        "id": "OfHpuj5Y2tvS"
      },
      "execution_count": 47,
      "outputs": []
    },
    {
      "cell_type": "code",
      "source": [
        "# Load data from CSV files into DataFrames\n",
        "#for file_name in extracted_files:\n",
        "#     Construct the full path to the file\n",
        " #   file_path = os.path.join(extract_path, file_name)"
      ],
      "metadata": {
        "id": "iplvyGPK3lvo"
      },
      "execution_count": null,
      "outputs": []
    },
    {
      "cell_type": "code",
      "source": [
        "    # Load the data into a DataFrame\n",
        "#    crypto_name = os.path.splitext(file_name)[0]  # Extract the cryptocurrency name from the file name\n",
        " #   crypto_data[crypto_name] = pd.read_csv(file_path)"
      ],
      "metadata": {
        "id": "in5IU3AQ3qRm"
      },
      "execution_count": null,
      "outputs": []
    },
    {
      "cell_type": "code",
      "source": [
        "from google.colab import files\n",
        "files.upload()"
      ],
      "metadata": {
        "colab": {
          "base_uri": "https://localhost:8080/",
          "height": 55
        },
        "id": "10SzvzBC4yoF",
        "outputId": "20931ee9-63cd-44ff-a844-6acfc3a30820"
      },
      "execution_count": 41,
      "outputs": [
        {
          "output_type": "display_data",
          "data": {
            "text/plain": [
              "<IPython.core.display.HTML object>"
            ],
            "text/html": [
              "\n",
              "     <input type=\"file\" id=\"files-87e38415-fcec-41e8-88a6-e57201dfd155\" name=\"files[]\" multiple disabled\n",
              "        style=\"border:none\" />\n",
              "     <output id=\"result-87e38415-fcec-41e8-88a6-e57201dfd155\">\n",
              "      Upload widget is only available when the cell has been executed in the\n",
              "      current browser session. Please rerun this cell to enable.\n",
              "      </output>\n",
              "      <script>// Copyright 2017 Google LLC\n",
              "//\n",
              "// Licensed under the Apache License, Version 2.0 (the \"License\");\n",
              "// you may not use this file except in compliance with the License.\n",
              "// You may obtain a copy of the License at\n",
              "//\n",
              "//      http://www.apache.org/licenses/LICENSE-2.0\n",
              "//\n",
              "// Unless required by applicable law or agreed to in writing, software\n",
              "// distributed under the License is distributed on an \"AS IS\" BASIS,\n",
              "// WITHOUT WARRANTIES OR CONDITIONS OF ANY KIND, either express or implied.\n",
              "// See the License for the specific language governing permissions and\n",
              "// limitations under the License.\n",
              "\n",
              "/**\n",
              " * @fileoverview Helpers for google.colab Python module.\n",
              " */\n",
              "(function(scope) {\n",
              "function span(text, styleAttributes = {}) {\n",
              "  const element = document.createElement('span');\n",
              "  element.textContent = text;\n",
              "  for (const key of Object.keys(styleAttributes)) {\n",
              "    element.style[key] = styleAttributes[key];\n",
              "  }\n",
              "  return element;\n",
              "}\n",
              "\n",
              "// Max number of bytes which will be uploaded at a time.\n",
              "const MAX_PAYLOAD_SIZE = 100 * 1024;\n",
              "\n",
              "function _uploadFiles(inputId, outputId) {\n",
              "  const steps = uploadFilesStep(inputId, outputId);\n",
              "  const outputElement = document.getElementById(outputId);\n",
              "  // Cache steps on the outputElement to make it available for the next call\n",
              "  // to uploadFilesContinue from Python.\n",
              "  outputElement.steps = steps;\n",
              "\n",
              "  return _uploadFilesContinue(outputId);\n",
              "}\n",
              "\n",
              "// This is roughly an async generator (not supported in the browser yet),\n",
              "// where there are multiple asynchronous steps and the Python side is going\n",
              "// to poll for completion of each step.\n",
              "// This uses a Promise to block the python side on completion of each step,\n",
              "// then passes the result of the previous step as the input to the next step.\n",
              "function _uploadFilesContinue(outputId) {\n",
              "  const outputElement = document.getElementById(outputId);\n",
              "  const steps = outputElement.steps;\n",
              "\n",
              "  const next = steps.next(outputElement.lastPromiseValue);\n",
              "  return Promise.resolve(next.value.promise).then((value) => {\n",
              "    // Cache the last promise value to make it available to the next\n",
              "    // step of the generator.\n",
              "    outputElement.lastPromiseValue = value;\n",
              "    return next.value.response;\n",
              "  });\n",
              "}\n",
              "\n",
              "/**\n",
              " * Generator function which is called between each async step of the upload\n",
              " * process.\n",
              " * @param {string} inputId Element ID of the input file picker element.\n",
              " * @param {string} outputId Element ID of the output display.\n",
              " * @return {!Iterable<!Object>} Iterable of next steps.\n",
              " */\n",
              "function* uploadFilesStep(inputId, outputId) {\n",
              "  const inputElement = document.getElementById(inputId);\n",
              "  inputElement.disabled = false;\n",
              "\n",
              "  const outputElement = document.getElementById(outputId);\n",
              "  outputElement.innerHTML = '';\n",
              "\n",
              "  const pickedPromise = new Promise((resolve) => {\n",
              "    inputElement.addEventListener('change', (e) => {\n",
              "      resolve(e.target.files);\n",
              "    });\n",
              "  });\n",
              "\n",
              "  const cancel = document.createElement('button');\n",
              "  inputElement.parentElement.appendChild(cancel);\n",
              "  cancel.textContent = 'Cancel upload';\n",
              "  const cancelPromise = new Promise((resolve) => {\n",
              "    cancel.onclick = () => {\n",
              "      resolve(null);\n",
              "    };\n",
              "  });\n",
              "\n",
              "  // Wait for the user to pick the files.\n",
              "  const files = yield {\n",
              "    promise: Promise.race([pickedPromise, cancelPromise]),\n",
              "    response: {\n",
              "      action: 'starting',\n",
              "    }\n",
              "  };\n",
              "\n",
              "  cancel.remove();\n",
              "\n",
              "  // Disable the input element since further picks are not allowed.\n",
              "  inputElement.disabled = true;\n",
              "\n",
              "  if (!files) {\n",
              "    return {\n",
              "      response: {\n",
              "        action: 'complete',\n",
              "      }\n",
              "    };\n",
              "  }\n",
              "\n",
              "  for (const file of files) {\n",
              "    const li = document.createElement('li');\n",
              "    li.append(span(file.name, {fontWeight: 'bold'}));\n",
              "    li.append(span(\n",
              "        `(${file.type || 'n/a'}) - ${file.size} bytes, ` +\n",
              "        `last modified: ${\n",
              "            file.lastModifiedDate ? file.lastModifiedDate.toLocaleDateString() :\n",
              "                                    'n/a'} - `));\n",
              "    const percent = span('0% done');\n",
              "    li.appendChild(percent);\n",
              "\n",
              "    outputElement.appendChild(li);\n",
              "\n",
              "    const fileDataPromise = new Promise((resolve) => {\n",
              "      const reader = new FileReader();\n",
              "      reader.onload = (e) => {\n",
              "        resolve(e.target.result);\n",
              "      };\n",
              "      reader.readAsArrayBuffer(file);\n",
              "    });\n",
              "    // Wait for the data to be ready.\n",
              "    let fileData = yield {\n",
              "      promise: fileDataPromise,\n",
              "      response: {\n",
              "        action: 'continue',\n",
              "      }\n",
              "    };\n",
              "\n",
              "    // Use a chunked sending to avoid message size limits. See b/62115660.\n",
              "    let position = 0;\n",
              "    do {\n",
              "      const length = Math.min(fileData.byteLength - position, MAX_PAYLOAD_SIZE);\n",
              "      const chunk = new Uint8Array(fileData, position, length);\n",
              "      position += length;\n",
              "\n",
              "      const base64 = btoa(String.fromCharCode.apply(null, chunk));\n",
              "      yield {\n",
              "        response: {\n",
              "          action: 'append',\n",
              "          file: file.name,\n",
              "          data: base64,\n",
              "        },\n",
              "      };\n",
              "\n",
              "      let percentDone = fileData.byteLength === 0 ?\n",
              "          100 :\n",
              "          Math.round((position / fileData.byteLength) * 100);\n",
              "      percent.textContent = `${percentDone}% done`;\n",
              "\n",
              "    } while (position < fileData.byteLength);\n",
              "  }\n",
              "\n",
              "  // All done.\n",
              "  yield {\n",
              "    response: {\n",
              "      action: 'complete',\n",
              "    }\n",
              "  };\n",
              "}\n",
              "\n",
              "scope.google = scope.google || {};\n",
              "scope.google.colab = scope.google.colab || {};\n",
              "scope.google.colab._files = {\n",
              "  _uploadFiles,\n",
              "  _uploadFilesContinue,\n",
              "};\n",
              "})(self);\n",
              "</script> "
            ]
          },
          "metadata": {}
        },
        {
          "output_type": "execute_result",
          "data": {
            "text/plain": [
              "{}"
            ]
          },
          "metadata": {},
          "execution_count": 41
        }
      ]
    },
    {
      "cell_type": "code",
      "source": [
        "! mkdir ~/.kaggled"
      ],
      "metadata": {
        "id": "dgkmGjRh9RC2"
      },
      "execution_count": 40,
      "outputs": []
    },
    {
      "cell_type": "code",
      "source": [
        "!cp /content/drive/MyDrive/kaggle.json /content/drive/MyDrive/kaggle.json"
      ],
      "metadata": {
        "colab": {
          "base_uri": "https://localhost:8080/"
        },
        "id": "NGjUcfXW9bzT",
        "outputId": "5e53b457-b88d-48bb-bac6-39a8c72c68e4"
      },
      "execution_count": 42,
      "outputs": [
        {
          "output_type": "stream",
          "name": "stdout",
          "text": [
            "cp: '/content/drive/MyDrive/kaggle.json' and '/content/drive/MyDrive/kaggle.json' are the same file\n"
          ]
        }
      ]
    },
    {
      "cell_type": "code",
      "source": [
        "!chmod 600 /content/drive/MyDrive/kaggle.json"
      ],
      "metadata": {
        "id": "5aaBoyiL953T"
      },
      "execution_count": 43,
      "outputs": []
    },
    {
      "cell_type": "code",
      "source": [
        "import os\n",
        "os.environ['KAGGLE_CONFIG_DIR'] = '/content/drive/MyDrive'"
      ],
      "metadata": {
        "id": "yaFelZ-X-cyG"
      },
      "execution_count": 44,
      "outputs": []
    },
    {
      "cell_type": "code",
      "source": [
        "!kaggle datasets download -d sudalairajkumar/cryptocurrency-historical-prices-coingecko --force"
      ],
      "metadata": {
        "colab": {
          "base_uri": "https://localhost:8080/"
        },
        "id": "Okw55RBy-ixM",
        "outputId": "ceb53db1-bd34-40f2-c7dd-fda26a6762e7"
      },
      "execution_count": 45,
      "outputs": [
        {
          "output_type": "stream",
          "name": "stdout",
          "text": [
            "Downloading cryptocurrency-historical-prices-coingecko.zip to /content\n",
            "\r  0% 0.00/2.95M [00:00<?, ?B/s]\n",
            "\r100% 2.95M/2.95M [00:00<00:00, 114MB/s]\n"
          ]
        }
      ]
    },
    {
      "cell_type": "code",
      "source": [],
      "metadata": {
        "id": "SBC3mSAxz3CW"
      },
      "execution_count": null,
      "outputs": []
    },
    {
      "cell_type": "code",
      "source": [
        "from google.colab import files\n",
        "import numpy as np\n",
        "import pandas as pd\n",
        "import os\n",
        "import tensorflow as tf\n",
        "import seaborn as sns\n",
        "import matplotlib.pyplot as plt\n",
        "from sklearn.model_selection import train_test_split\n",
        "from sklearn.neighbors import KNeighborsClassifier\n",
        "from sklearn.metrics import confusion_matrix, accuracy_score\n",
        "from sklearn.svm import SVC\n",
        "from sklearn.tree import DecisionTreeClassifier\n",
        "from sklearn.ensemble import RandomForestClassifier\n",
        "from sklearn.preprocessing import LabelEncoder\n",
        "from mpl_toolkits.mplot3d import Axes3D\n",
        "from sklearn.preprocessing import MinMaxScaler\n",
        "import matplotlib.pyplot as plt\n",
        "from sklearn.metrics import mean_squared_error\n",
        "from sklearn.metrics import accuracy_score\n",
        "from keras.models import Sequential\n",
        "from keras.layers import LSTM, Dense, Dropout\n",
        "from keras.callbacks import EarlyStopping\n",
        "print('imported all libraries to use in price prediction')"
      ],
      "metadata": {
        "colab": {
          "base_uri": "https://localhost:8080/"
        },
        "id": "wB3pMWWil6L5",
        "outputId": "a3963ee6-e2d9-409f-f14d-17ff6bc1cada"
      },
      "execution_count": 70,
      "outputs": [
        {
          "output_type": "stream",
          "name": "stdout",
          "text": [
            "imported all libraries to use in price prediction\n"
          ]
        }
      ]
    },
    {
      "cell_type": "code",
      "source": [
        "import os\n",
        "import glob\n",
        "import pandas as pd\n",
        "\n",
        "# Set the path to the directory containing the CSV files\n",
        "csv_path = '/content/cryptocurrency-historical-prices-coingecko/'\n",
        "# Use glob to get a list of all CSV files in the directory\n",
        "csv_files = glob.glob(os.path.join(csv_path, '*.csv'))\n",
        "\n",
        "# Create a list to store DataFrames from each CSV file\n",
        "df_list = []\n",
        "\n",
        "# Iterate over the list of CSV files, read each file, and append it to the df_list\n",
        "for csv_file in csv_files:\n",
        "    df = pd.read_csv(csv_file, index_col=0)\n",
        "    df_list.append(df)\n",
        "\n",
        "# Concatenate all DataFrames in the df_list to create a single DataFrame\n",
        "merged_df = pd.concat(df_list, axis=0, ignore_index=False)\n",
        "\n",
        "# Reset the index for a clean numbering of rows\n",
        "merged_df.reset_index(drop=True, inplace=True)\n",
        "\n",
        "# Print the first few rows and columns of the DataFrame\n",
        "print(merged_df.head())\n",
        "print(merged_df.columns)\n"
      ],
      "metadata": {
        "colab": {
          "base_uri": "https://localhost:8080/"
        },
        "id": "GbjYEyIujzqp",
        "outputId": "04fbd405-e2ec-4195-fe48-37eff0f7c08d"
      },
      "execution_count": 27,
      "outputs": [
        {
          "output_type": "stream",
          "name": "stdout",
          "text": [
            "      price  total_volume    market_cap      coin_name\n",
            "0  0.145700  1.885524e+07  7.754756e+06  axie-infinity\n",
            "1  0.145700  1.885524e+07  7.754756e+06  axie-infinity\n",
            "2  0.134893  5.718030e+06  7.257185e+06  axie-infinity\n",
            "3  0.142960  3.529226e+06  7.678065e+06  axie-infinity\n",
            "4  0.141995  2.744359e+06  7.658840e+06  axie-infinity\n",
            "Index(['price', 'total_volume', 'market_cap', 'coin_name'], dtype='object')\n"
          ]
        }
      ]
    },
    {
      "cell_type": "code",
      "source": [
        "df.tail()"
      ],
      "metadata": {
        "colab": {
          "base_uri": "https://localhost:8080/",
          "height": 238
        },
        "id": "sPV26RexoegG",
        "outputId": "2e56db0c-9ded-407b-cbaf-afccfa6d2583"
      },
      "execution_count": 38,
      "outputs": [
        {
          "output_type": "execute_result",
          "data": {
            "text/plain": [
              "               price  total_volume    market_cap    coin_name\n",
              "date                                                         \n",
              "2024-03-23  0.645747  1.932364e+08  1.451510e+09  the-sandbox\n",
              "2024-03-24  0.670439  1.854926e+08  1.510408e+09  the-sandbox\n",
              "2024-03-25  0.682850  1.282811e+08  1.538087e+09  the-sandbox\n",
              "2024-03-26  0.692478  1.695120e+08  1.555995e+09  the-sandbox\n",
              "2024-03-27  0.720176  2.199467e+08  1.617702e+09  the-sandbox"
            ],
            "text/html": [
              "\n",
              "  <div id=\"df-bdade21f-fdf0-44f2-be8c-603926fb5c63\" class=\"colab-df-container\">\n",
              "    <div>\n",
              "<style scoped>\n",
              "    .dataframe tbody tr th:only-of-type {\n",
              "        vertical-align: middle;\n",
              "    }\n",
              "\n",
              "    .dataframe tbody tr th {\n",
              "        vertical-align: top;\n",
              "    }\n",
              "\n",
              "    .dataframe thead th {\n",
              "        text-align: right;\n",
              "    }\n",
              "</style>\n",
              "<table border=\"1\" class=\"dataframe\">\n",
              "  <thead>\n",
              "    <tr style=\"text-align: right;\">\n",
              "      <th></th>\n",
              "      <th>price</th>\n",
              "      <th>total_volume</th>\n",
              "      <th>market_cap</th>\n",
              "      <th>coin_name</th>\n",
              "    </tr>\n",
              "    <tr>\n",
              "      <th>date</th>\n",
              "      <th></th>\n",
              "      <th></th>\n",
              "      <th></th>\n",
              "      <th></th>\n",
              "    </tr>\n",
              "  </thead>\n",
              "  <tbody>\n",
              "    <tr>\n",
              "      <th>2024-03-23</th>\n",
              "      <td>0.645747</td>\n",
              "      <td>1.932364e+08</td>\n",
              "      <td>1.451510e+09</td>\n",
              "      <td>the-sandbox</td>\n",
              "    </tr>\n",
              "    <tr>\n",
              "      <th>2024-03-24</th>\n",
              "      <td>0.670439</td>\n",
              "      <td>1.854926e+08</td>\n",
              "      <td>1.510408e+09</td>\n",
              "      <td>the-sandbox</td>\n",
              "    </tr>\n",
              "    <tr>\n",
              "      <th>2024-03-25</th>\n",
              "      <td>0.682850</td>\n",
              "      <td>1.282811e+08</td>\n",
              "      <td>1.538087e+09</td>\n",
              "      <td>the-sandbox</td>\n",
              "    </tr>\n",
              "    <tr>\n",
              "      <th>2024-03-26</th>\n",
              "      <td>0.692478</td>\n",
              "      <td>1.695120e+08</td>\n",
              "      <td>1.555995e+09</td>\n",
              "      <td>the-sandbox</td>\n",
              "    </tr>\n",
              "    <tr>\n",
              "      <th>2024-03-27</th>\n",
              "      <td>0.720176</td>\n",
              "      <td>2.199467e+08</td>\n",
              "      <td>1.617702e+09</td>\n",
              "      <td>the-sandbox</td>\n",
              "    </tr>\n",
              "  </tbody>\n",
              "</table>\n",
              "</div>\n",
              "    <div class=\"colab-df-buttons\">\n",
              "\n",
              "  <div class=\"colab-df-container\">\n",
              "    <button class=\"colab-df-convert\" onclick=\"convertToInteractive('df-bdade21f-fdf0-44f2-be8c-603926fb5c63')\"\n",
              "            title=\"Convert this dataframe to an interactive table.\"\n",
              "            style=\"display:none;\">\n",
              "\n",
              "  <svg xmlns=\"http://www.w3.org/2000/svg\" height=\"24px\" viewBox=\"0 -960 960 960\">\n",
              "    <path d=\"M120-120v-720h720v720H120Zm60-500h600v-160H180v160Zm220 220h160v-160H400v160Zm0 220h160v-160H400v160ZM180-400h160v-160H180v160Zm440 0h160v-160H620v160ZM180-180h160v-160H180v160Zm440 0h160v-160H620v160Z\"/>\n",
              "  </svg>\n",
              "    </button>\n",
              "\n",
              "  <style>\n",
              "    .colab-df-container {\n",
              "      display:flex;\n",
              "      gap: 12px;\n",
              "    }\n",
              "\n",
              "    .colab-df-convert {\n",
              "      background-color: #E8F0FE;\n",
              "      border: none;\n",
              "      border-radius: 50%;\n",
              "      cursor: pointer;\n",
              "      display: none;\n",
              "      fill: #1967D2;\n",
              "      height: 32px;\n",
              "      padding: 0 0 0 0;\n",
              "      width: 32px;\n",
              "    }\n",
              "\n",
              "    .colab-df-convert:hover {\n",
              "      background-color: #E2EBFA;\n",
              "      box-shadow: 0px 1px 2px rgba(60, 64, 67, 0.3), 0px 1px 3px 1px rgba(60, 64, 67, 0.15);\n",
              "      fill: #174EA6;\n",
              "    }\n",
              "\n",
              "    .colab-df-buttons div {\n",
              "      margin-bottom: 4px;\n",
              "    }\n",
              "\n",
              "    [theme=dark] .colab-df-convert {\n",
              "      background-color: #3B4455;\n",
              "      fill: #D2E3FC;\n",
              "    }\n",
              "\n",
              "    [theme=dark] .colab-df-convert:hover {\n",
              "      background-color: #434B5C;\n",
              "      box-shadow: 0px 1px 3px 1px rgba(0, 0, 0, 0.15);\n",
              "      filter: drop-shadow(0px 1px 2px rgba(0, 0, 0, 0.3));\n",
              "      fill: #FFFFFF;\n",
              "    }\n",
              "  </style>\n",
              "\n",
              "    <script>\n",
              "      const buttonEl =\n",
              "        document.querySelector('#df-bdade21f-fdf0-44f2-be8c-603926fb5c63 button.colab-df-convert');\n",
              "      buttonEl.style.display =\n",
              "        google.colab.kernel.accessAllowed ? 'block' : 'none';\n",
              "\n",
              "      async function convertToInteractive(key) {\n",
              "        const element = document.querySelector('#df-bdade21f-fdf0-44f2-be8c-603926fb5c63');\n",
              "        const dataTable =\n",
              "          await google.colab.kernel.invokeFunction('convertToInteractive',\n",
              "                                                    [key], {});\n",
              "        if (!dataTable) return;\n",
              "\n",
              "        const docLinkHtml = 'Like what you see? Visit the ' +\n",
              "          '<a target=\"_blank\" href=https://colab.research.google.com/notebooks/data_table.ipynb>data table notebook</a>'\n",
              "          + ' to learn more about interactive tables.';\n",
              "        element.innerHTML = '';\n",
              "        dataTable['output_type'] = 'display_data';\n",
              "        await google.colab.output.renderOutput(dataTable, element);\n",
              "        const docLink = document.createElement('div');\n",
              "        docLink.innerHTML = docLinkHtml;\n",
              "        element.appendChild(docLink);\n",
              "      }\n",
              "    </script>\n",
              "  </div>\n",
              "\n",
              "\n",
              "<div id=\"df-27d1a3ab-affc-4881-9e72-8b4e1570a004\">\n",
              "  <button class=\"colab-df-quickchart\" onclick=\"quickchart('df-27d1a3ab-affc-4881-9e72-8b4e1570a004')\"\n",
              "            title=\"Suggest charts\"\n",
              "            style=\"display:none;\">\n",
              "\n",
              "<svg xmlns=\"http://www.w3.org/2000/svg\" height=\"24px\"viewBox=\"0 0 24 24\"\n",
              "     width=\"24px\">\n",
              "    <g>\n",
              "        <path d=\"M19 3H5c-1.1 0-2 .9-2 2v14c0 1.1.9 2 2 2h14c1.1 0 2-.9 2-2V5c0-1.1-.9-2-2-2zM9 17H7v-7h2v7zm4 0h-2V7h2v10zm4 0h-2v-4h2v4z\"/>\n",
              "    </g>\n",
              "</svg>\n",
              "  </button>\n",
              "\n",
              "<style>\n",
              "  .colab-df-quickchart {\n",
              "      --bg-color: #E8F0FE;\n",
              "      --fill-color: #1967D2;\n",
              "      --hover-bg-color: #E2EBFA;\n",
              "      --hover-fill-color: #174EA6;\n",
              "      --disabled-fill-color: #AAA;\n",
              "      --disabled-bg-color: #DDD;\n",
              "  }\n",
              "\n",
              "  [theme=dark] .colab-df-quickchart {\n",
              "      --bg-color: #3B4455;\n",
              "      --fill-color: #D2E3FC;\n",
              "      --hover-bg-color: #434B5C;\n",
              "      --hover-fill-color: #FFFFFF;\n",
              "      --disabled-bg-color: #3B4455;\n",
              "      --disabled-fill-color: #666;\n",
              "  }\n",
              "\n",
              "  .colab-df-quickchart {\n",
              "    background-color: var(--bg-color);\n",
              "    border: none;\n",
              "    border-radius: 50%;\n",
              "    cursor: pointer;\n",
              "    display: none;\n",
              "    fill: var(--fill-color);\n",
              "    height: 32px;\n",
              "    padding: 0;\n",
              "    width: 32px;\n",
              "  }\n",
              "\n",
              "  .colab-df-quickchart:hover {\n",
              "    background-color: var(--hover-bg-color);\n",
              "    box-shadow: 0 1px 2px rgba(60, 64, 67, 0.3), 0 1px 3px 1px rgba(60, 64, 67, 0.15);\n",
              "    fill: var(--button-hover-fill-color);\n",
              "  }\n",
              "\n",
              "  .colab-df-quickchart-complete:disabled,\n",
              "  .colab-df-quickchart-complete:disabled:hover {\n",
              "    background-color: var(--disabled-bg-color);\n",
              "    fill: var(--disabled-fill-color);\n",
              "    box-shadow: none;\n",
              "  }\n",
              "\n",
              "  .colab-df-spinner {\n",
              "    border: 2px solid var(--fill-color);\n",
              "    border-color: transparent;\n",
              "    border-bottom-color: var(--fill-color);\n",
              "    animation:\n",
              "      spin 1s steps(1) infinite;\n",
              "  }\n",
              "\n",
              "  @keyframes spin {\n",
              "    0% {\n",
              "      border-color: transparent;\n",
              "      border-bottom-color: var(--fill-color);\n",
              "      border-left-color: var(--fill-color);\n",
              "    }\n",
              "    20% {\n",
              "      border-color: transparent;\n",
              "      border-left-color: var(--fill-color);\n",
              "      border-top-color: var(--fill-color);\n",
              "    }\n",
              "    30% {\n",
              "      border-color: transparent;\n",
              "      border-left-color: var(--fill-color);\n",
              "      border-top-color: var(--fill-color);\n",
              "      border-right-color: var(--fill-color);\n",
              "    }\n",
              "    40% {\n",
              "      border-color: transparent;\n",
              "      border-right-color: var(--fill-color);\n",
              "      border-top-color: var(--fill-color);\n",
              "    }\n",
              "    60% {\n",
              "      border-color: transparent;\n",
              "      border-right-color: var(--fill-color);\n",
              "    }\n",
              "    80% {\n",
              "      border-color: transparent;\n",
              "      border-right-color: var(--fill-color);\n",
              "      border-bottom-color: var(--fill-color);\n",
              "    }\n",
              "    90% {\n",
              "      border-color: transparent;\n",
              "      border-bottom-color: var(--fill-color);\n",
              "    }\n",
              "  }\n",
              "</style>\n",
              "\n",
              "  <script>\n",
              "    async function quickchart(key) {\n",
              "      const quickchartButtonEl =\n",
              "        document.querySelector('#' + key + ' button');\n",
              "      quickchartButtonEl.disabled = true;  // To prevent multiple clicks.\n",
              "      quickchartButtonEl.classList.add('colab-df-spinner');\n",
              "      try {\n",
              "        const charts = await google.colab.kernel.invokeFunction(\n",
              "            'suggestCharts', [key], {});\n",
              "      } catch (error) {\n",
              "        console.error('Error during call to suggestCharts:', error);\n",
              "      }\n",
              "      quickchartButtonEl.classList.remove('colab-df-spinner');\n",
              "      quickchartButtonEl.classList.add('colab-df-quickchart-complete');\n",
              "    }\n",
              "    (() => {\n",
              "      let quickchartButtonEl =\n",
              "        document.querySelector('#df-27d1a3ab-affc-4881-9e72-8b4e1570a004 button');\n",
              "      quickchartButtonEl.style.display =\n",
              "        google.colab.kernel.accessAllowed ? 'block' : 'none';\n",
              "    })();\n",
              "  </script>\n",
              "</div>\n",
              "\n",
              "    </div>\n",
              "  </div>\n"
            ],
            "application/vnd.google.colaboratory.intrinsic+json": {
              "type": "dataframe",
              "summary": "{\n  \"name\": \"df\",\n  \"rows\": 5,\n  \"fields\": [\n    {\n      \"column\": \"date\",\n      \"properties\": {\n        \"dtype\": \"object\",\n        \"num_unique_values\": 5,\n        \"samples\": [\n          \"2024-03-24\",\n          \"2024-03-27\",\n          \"2024-03-25\"\n        ],\n        \"semantic_type\": \"\",\n        \"description\": \"\"\n      }\n    },\n    {\n      \"column\": \"price\",\n      \"properties\": {\n        \"dtype\": \"number\",\n        \"std\": 0.027455918682469424,\n        \"min\": 0.6457469737707993,\n        \"max\": 0.7201764502780063,\n        \"num_unique_values\": 5,\n        \"samples\": [\n          0.6704392292950102,\n          0.7201764502780063,\n          0.6828500258224907\n        ],\n        \"semantic_type\": \"\",\n        \"description\": \"\"\n      }\n    },\n    {\n      \"column\": \"total_volume\",\n      \"properties\": {\n        \"dtype\": \"number\",\n        \"std\": 33850618.34783823,\n        \"min\": 128281085.19267528,\n        \"max\": 219946655.44836116,\n        \"num_unique_values\": 5,\n        \"samples\": [\n          185492600.70089197,\n          219946655.44836116,\n          128281085.19267528\n        ],\n        \"semantic_type\": \"\",\n        \"description\": \"\"\n      }\n    },\n    {\n      \"column\": \"market_cap\",\n      \"properties\": {\n        \"dtype\": \"number\",\n        \"std\": 60961004.41274066,\n        \"min\": 1451509750.0412512,\n        \"max\": 1617702009.4814465,\n        \"num_unique_values\": 5,\n        \"samples\": [\n          1510407971.9227114,\n          1617702009.4814465,\n          1538087100.2331507\n        ],\n        \"semantic_type\": \"\",\n        \"description\": \"\"\n      }\n    },\n    {\n      \"column\": \"coin_name\",\n      \"properties\": {\n        \"dtype\": \"category\",\n        \"num_unique_values\": 1,\n        \"samples\": [\n          \"the-sandbox\"\n        ],\n        \"semantic_type\": \"\",\n        \"description\": \"\"\n      }\n    }\n  ]\n}"
            }
          },
          "metadata": {},
          "execution_count": 38
        }
      ]
    },
    {
      "cell_type": "code",
      "source": [
        "# check the null values\n",
        "df.isnull().sum()"
      ],
      "metadata": {
        "colab": {
          "base_uri": "https://localhost:8080/"
        },
        "id": "ydH86w97useb",
        "outputId": "bc50a610-bea4-48d1-ffbc-8c3f31f10ee3"
      },
      "execution_count": 50,
      "outputs": [
        {
          "output_type": "execute_result",
          "data": {
            "text/plain": [
              "price           0\n",
              "total_volume    0\n",
              "market_cap      0\n",
              "coin_name       0\n",
              "dtype: int64"
            ]
          },
          "metadata": {},
          "execution_count": 50
        }
      ]
    },
    {
      "cell_type": "code",
      "source": [
        "# Select only numerical columns\n",
        "num_cols = df.select_dtypes(include=['float', 'int']).columns\n",
        "X_train = df[num_cols]"
      ],
      "metadata": {
        "id": "rgSEsvtixAzM"
      },
      "execution_count": 59,
      "outputs": []
    },
    {
      "cell_type": "code",
      "source": [
        "# Handle missing values\n",
        "X_train = X_train.fillna(0)"
      ],
      "metadata": {
        "id": "9E41VgtYxCO7"
      },
      "execution_count": 60,
      "outputs": []
    },
    {
      "cell_type": "code",
      "source": [
        "#  Display the descriptive statistics\n",
        "print(df.describe())"
      ],
      "metadata": {
        "colab": {
          "base_uri": "https://localhost:8080/"
        },
        "id": "kvYz3F4juz4g",
        "outputId": "ea84afe5-dd19-4d4f-e5fe-be3eefc618e2"
      },
      "execution_count": 51,
      "outputs": [
        {
          "output_type": "stream",
          "name": "stdout",
          "text": [
            "             price  total_volume    market_cap\n",
            "count  1322.000000  1.322000e+03  1.322000e+03\n",
            "mean      1.022775  2.869735e+08  1.219028e+09\n",
            "std       1.321158  5.776695e+08  1.251983e+09\n",
            "min       0.030851  2.094053e+06  0.000000e+00\n",
            "25%       0.367148  5.877710e+07  4.568628e+08\n",
            "50%       0.586201  1.260176e+08  9.019935e+08\n",
            "75%       0.882274  2.979130e+08  1.370743e+09\n",
            "max       7.513639  8.705030e+09  6.803492e+09\n"
          ]
        }
      ]
    },
    {
      "cell_type": "code",
      "source": [
        "# Display the class label distribution\n",
        "print(df['price'].value_counts())"
      ],
      "metadata": {
        "colab": {
          "base_uri": "https://localhost:8080/"
        },
        "id": "9NdsuwI2u72h",
        "outputId": "586b5e13-a998-4a8f-a15c-093c2af54c4d"
      },
      "execution_count": 52,
      "outputs": [
        {
          "output_type": "stream",
          "name": "stdout",
          "text": [
            "price\n",
            "0.080920    1\n",
            "0.702473    1\n",
            "0.725990    1\n",
            "0.666579    1\n",
            "0.621010    1\n",
            "           ..\n",
            "0.767727    1\n",
            "0.830357    1\n",
            "0.809520    1\n",
            "0.790569    1\n",
            "0.720176    1\n",
            "Name: count, Length: 1322, dtype: int64\n"
          ]
        }
      ]
    },
    {
      "cell_type": "code",
      "source": [],
      "metadata": {
        "id": "iZQPckNgw-rX"
      },
      "execution_count": null,
      "outputs": []
    },
    {
      "cell_type": "code",
      "source": [
        "# Preprocess data\n",
        "scaler = MinMaxScaler(feature_range=(0, 1))"
      ],
      "metadata": {
        "id": "U4uW7eVev1Ag"
      },
      "execution_count": 54,
      "outputs": []
    },
    {
      "cell_type": "code",
      "source": [
        "scaled_data = scaler.fit_transform(data['price'].values.reshape(-1,1))"
      ],
      "metadata": {
        "id": "bGmjeUVHwYc8"
      },
      "execution_count": 55,
      "outputs": []
    },
    {
      "cell_type": "code",
      "source": [
        "# Define window size for LSTM model\n",
        "window_size = 120"
      ],
      "metadata": {
        "id": "QNZO0LN9wbj_"
      },
      "execution_count": 56,
      "outputs": []
    },
    {
      "cell_type": "code",
      "source": [
        "# Split the data into training and testing sets\n",
        "X = df.drop('price', axis=1)  # Features\n",
        "y = df['price']  # Target variable\n",
        "X_train, X_test, y_train, y_test = train_test_split(X, y, test_size=0.2)"
      ],
      "metadata": {
        "id": "XktN0t1xwicF"
      },
      "execution_count": 57,
      "outputs": []
    },
    {
      "cell_type": "code",
      "source": [
        "# Scale the features\n",
        "scaler = MinMaxScaler()\n",
        "X_train = scaler.fit_transform(X_train)"
      ],
      "metadata": {
        "id": "u1PwHVerxN9D"
      },
      "execution_count": 61,
      "outputs": []
    },
    {
      "cell_type": "code",
      "source": [
        "X_test = df[num_cols]\n",
        "X_test = X_test.fillna(0)\n",
        "X_test = scaler.transform(X_test)"
      ],
      "metadata": {
        "id": "7MnIeOdPxPVT"
      },
      "execution_count": 62,
      "outputs": []
    },
    {
      "cell_type": "code",
      "source": [
        "# Normalize the features\n",
        "scaler = MinMaxScaler()\n",
        "X_train = scaler.fit_transform(X_train)\n",
        "X_test = scaler.transform(X_test)"
      ],
      "metadata": {
        "id": "Xoe3HBvpwnXr"
      },
      "execution_count": 63,
      "outputs": []
    },
    {
      "cell_type": "code",
      "source": [
        "# Create sequences of data for LSTM model\n",
        "X, y = [], []\n",
        "for i in range(window_size, len(data)):\n",
        "    X.append(scaled_data[i-window_size:i, :])\n",
        "    y.append(scaled_data[i, 0])\n"
      ],
      "metadata": {
        "id": "lfjBTGvdximn"
      },
      "execution_count": 64,
      "outputs": []
    },
    {
      "cell_type": "code",
      "source": [
        "X = np.expand_dims(X, axis=1)\n",
        "y = np.expand_dims(y, axis=1)"
      ],
      "metadata": {
        "id": "Bbaz3yUOxpSz"
      },
      "execution_count": 65,
      "outputs": []
    },
    {
      "cell_type": "code",
      "source": [
        "split_index = int(len(data) * 0.8)\n",
        "X_train, X_test = X[:split_index], X[split_index:]\n",
        "y_train, y_test = y[:split_index], y[split_index:]"
      ],
      "metadata": {
        "id": "GOTo3uz6xw8F"
      },
      "execution_count": 66,
      "outputs": []
    },
    {
      "cell_type": "code",
      "source": [
        "from tensorflow.keras.models import Sequential\n",
        "from tensorflow.keras.layers import LSTM, Dense, Dropout\n",
        "from tensorflow.keras.optimizers import Adam\n",
        "\n",
        "model = Sequential()\n",
        "model.add(LSTM(units=50, return_sequences=True, input_shape=(X_train.shape[1], X_train.shape[2])))\n",
        "model.add(Dropout(0.2))\n",
        "model.add(LSTM(units=50, return_sequences=False))\n",
        "model.add(Dropout(0.2))\n",
        "model.add(Dense(units=1))\n",
        "model.compile(optimizer=Adam(learning_rate=0.001), loss='mean_squared_error')\n"
      ],
      "metadata": {
        "id": "3ij7sGGNwsHn"
      },
      "execution_count": 71,
      "outputs": []
    },
    {
      "cell_type": "code",
      "source": [
        "# Define Early Stopping Callback\n",
        "early_stopping = EarlyStopping(monitor='val_loss', patience=10)"
      ],
      "metadata": {
        "id": "OUS2ZHPTx12B"
      },
      "execution_count": 72,
      "outputs": []
    },
    {
      "cell_type": "code",
      "source": [
        "# Import necessary libraries\n",
        "from sklearn.metrics import mean_squared_error"
      ],
      "metadata": {
        "id": "9LTewoPfyyuN"
      },
      "execution_count": 74,
      "outputs": []
    },
    {
      "cell_type": "code",
      "source": [
        "# Train the model\n",
        "model.fit(X_train, y_train, epochs=100, batch_size=32)"
      ],
      "metadata": {
        "colab": {
          "base_uri": "https://localhost:8080/"
        },
        "id": "VLM-0pooz408",
        "outputId": "a0e56dc9-3f35-4d22-974b-4a7f5ecc3571"
      },
      "execution_count": 75,
      "outputs": [
        {
          "output_type": "stream",
          "name": "stdout",
          "text": [
            "Epoch 1/100\n",
            "2471/2471 [==============================] - 17s 4ms/step - loss: 4.7693e-04\n",
            "Epoch 2/100\n",
            "2471/2471 [==============================] - 11s 4ms/step - loss: 2.6448e-04\n",
            "Epoch 3/100\n",
            "2471/2471 [==============================] - 11s 4ms/step - loss: 2.4846e-04\n",
            "Epoch 4/100\n",
            "2471/2471 [==============================] - 12s 5ms/step - loss: 2.2918e-04\n",
            "Epoch 5/100\n",
            "2471/2471 [==============================] - 12s 5ms/step - loss: 2.1794e-04\n",
            "Epoch 6/100\n",
            "2471/2471 [==============================] - 12s 5ms/step - loss: 1.9131e-04\n",
            "Epoch 7/100\n",
            "2471/2471 [==============================] - 12s 5ms/step - loss: 1.9734e-04\n",
            "Epoch 8/100\n",
            "2471/2471 [==============================] - 12s 5ms/step - loss: 1.9658e-04\n",
            "Epoch 9/100\n",
            "2471/2471 [==============================] - 10s 4ms/step - loss: 1.8785e-04\n",
            "Epoch 10/100\n",
            "2471/2471 [==============================] - 11s 5ms/step - loss: 1.8056e-04\n",
            "Epoch 11/100\n",
            "2471/2471 [==============================] - 11s 5ms/step - loss: 1.8176e-04\n",
            "Epoch 12/100\n",
            "2471/2471 [==============================] - 12s 5ms/step - loss: 1.8316e-04\n",
            "Epoch 13/100\n",
            "2471/2471 [==============================] - 11s 4ms/step - loss: 1.7662e-04\n",
            "Epoch 14/100\n",
            "2471/2471 [==============================] - 10s 4ms/step - loss: 1.6439e-04\n",
            "Epoch 15/100\n",
            "2471/2471 [==============================] - 12s 5ms/step - loss: 1.6931e-04\n",
            "Epoch 16/100\n",
            "2471/2471 [==============================] - 12s 5ms/step - loss: 1.7861e-04\n",
            "Epoch 17/100\n",
            "2471/2471 [==============================] - 12s 5ms/step - loss: 1.5414e-04\n",
            "Epoch 18/100\n",
            "2471/2471 [==============================] - 12s 5ms/step - loss: 1.6713e-04\n",
            "Epoch 19/100\n",
            "2471/2471 [==============================] - 12s 5ms/step - loss: 1.4704e-04\n",
            "Epoch 20/100\n",
            "2471/2471 [==============================] - 11s 5ms/step - loss: 1.5622e-04\n",
            "Epoch 21/100\n",
            "2471/2471 [==============================] - 11s 5ms/step - loss: 1.4939e-04\n",
            "Epoch 22/100\n",
            "2471/2471 [==============================] - 11s 5ms/step - loss: 1.5304e-04\n",
            "Epoch 23/100\n",
            "2471/2471 [==============================] - 12s 5ms/step - loss: 1.5438e-04\n",
            "Epoch 24/100\n",
            "2471/2471 [==============================] - 11s 5ms/step - loss: 1.4203e-04\n",
            "Epoch 25/100\n",
            "2471/2471 [==============================] - 12s 5ms/step - loss: 1.4691e-04\n",
            "Epoch 26/100\n",
            "2471/2471 [==============================] - 12s 5ms/step - loss: 1.5174e-04\n",
            "Epoch 27/100\n",
            "2471/2471 [==============================] - 11s 4ms/step - loss: 1.3738e-04\n",
            "Epoch 28/100\n",
            "2471/2471 [==============================] - 11s 4ms/step - loss: 1.3427e-04\n",
            "Epoch 29/100\n",
            "2471/2471 [==============================] - 11s 4ms/step - loss: 1.4463e-04\n",
            "Epoch 30/100\n",
            "2471/2471 [==============================] - 12s 5ms/step - loss: 1.3804e-04\n",
            "Epoch 31/100\n",
            "2471/2471 [==============================] - 12s 5ms/step - loss: 1.4304e-04\n",
            "Epoch 32/100\n",
            "2471/2471 [==============================] - 11s 5ms/step - loss: 1.3531e-04\n",
            "Epoch 33/100\n",
            "2471/2471 [==============================] - 13s 5ms/step - loss: 1.4181e-04\n",
            "Epoch 34/100\n",
            "2471/2471 [==============================] - 11s 5ms/step - loss: 1.3972e-04\n",
            "Epoch 35/100\n",
            "2471/2471 [==============================] - 11s 5ms/step - loss: 1.3402e-04\n",
            "Epoch 36/100\n",
            "2471/2471 [==============================] - 12s 5ms/step - loss: 1.2448e-04\n",
            "Epoch 37/100\n",
            "2471/2471 [==============================] - 12s 5ms/step - loss: 1.3243e-04\n",
            "Epoch 38/100\n",
            "2471/2471 [==============================] - 11s 5ms/step - loss: 1.2806e-04\n",
            "Epoch 39/100\n",
            "2471/2471 [==============================] - 10s 4ms/step - loss: 1.4088e-04\n",
            "Epoch 40/100\n",
            "2471/2471 [==============================] - 12s 5ms/step - loss: 1.4144e-04\n",
            "Epoch 41/100\n",
            "2471/2471 [==============================] - 12s 5ms/step - loss: 1.2377e-04\n",
            "Epoch 42/100\n",
            "2471/2471 [==============================] - 12s 5ms/step - loss: 1.2995e-04\n",
            "Epoch 43/100\n",
            "2471/2471 [==============================] - 11s 5ms/step - loss: 1.2109e-04\n",
            "Epoch 44/100\n",
            "2471/2471 [==============================] - 11s 4ms/step - loss: 1.3095e-04\n",
            "Epoch 45/100\n",
            "2471/2471 [==============================] - 11s 4ms/step - loss: 1.3024e-04\n",
            "Epoch 46/100\n",
            "2471/2471 [==============================] - 12s 5ms/step - loss: 1.3396e-04\n",
            "Epoch 47/100\n",
            "2471/2471 [==============================] - 11s 5ms/step - loss: 1.2201e-04\n",
            "Epoch 48/100\n",
            "2471/2471 [==============================] - 11s 5ms/step - loss: 1.2910e-04\n",
            "Epoch 49/100\n",
            "2471/2471 [==============================] - 11s 4ms/step - loss: 1.2380e-04\n",
            "Epoch 50/100\n",
            "2471/2471 [==============================] - 11s 4ms/step - loss: 1.2627e-04\n",
            "Epoch 51/100\n",
            "2471/2471 [==============================] - 11s 4ms/step - loss: 1.2049e-04\n",
            "Epoch 52/100\n",
            "2471/2471 [==============================] - 11s 4ms/step - loss: 1.3605e-04\n",
            "Epoch 53/100\n",
            "2471/2471 [==============================] - 10s 4ms/step - loss: 1.2360e-04\n",
            "Epoch 54/100\n",
            "2471/2471 [==============================] - 10s 4ms/step - loss: 1.1698e-04\n",
            "Epoch 55/100\n",
            "2471/2471 [==============================] - 11s 4ms/step - loss: 1.1616e-04\n",
            "Epoch 56/100\n",
            "2471/2471 [==============================] - 11s 4ms/step - loss: 1.2932e-04\n",
            "Epoch 57/100\n",
            "2471/2471 [==============================] - 11s 5ms/step - loss: 1.2724e-04\n",
            "Epoch 58/100\n",
            "2471/2471 [==============================] - 10s 4ms/step - loss: 1.2123e-04\n",
            "Epoch 59/100\n",
            "2471/2471 [==============================] - 11s 4ms/step - loss: 1.2934e-04\n",
            "Epoch 60/100\n",
            "2471/2471 [==============================] - 11s 4ms/step - loss: 1.1848e-04\n",
            "Epoch 61/100\n",
            "2471/2471 [==============================] - 11s 4ms/step - loss: 1.2111e-04\n",
            "Epoch 62/100\n",
            "2471/2471 [==============================] - 10s 4ms/step - loss: 1.2093e-04\n",
            "Epoch 63/100\n",
            "2471/2471 [==============================] - 11s 4ms/step - loss: 1.1908e-04\n",
            "Epoch 64/100\n",
            "2471/2471 [==============================] - 11s 4ms/step - loss: 1.2737e-04\n",
            "Epoch 65/100\n",
            "2471/2471 [==============================] - 11s 4ms/step - loss: 1.1442e-04\n",
            "Epoch 66/100\n",
            "2471/2471 [==============================] - 10s 4ms/step - loss: 1.1609e-04\n",
            "Epoch 67/100\n",
            "2471/2471 [==============================] - 11s 5ms/step - loss: 1.1687e-04\n",
            "Epoch 68/100\n",
            "2471/2471 [==============================] - 11s 5ms/step - loss: 1.1831e-04\n",
            "Epoch 69/100\n",
            "2471/2471 [==============================] - 11s 5ms/step - loss: 1.2527e-04\n",
            "Epoch 70/100\n",
            "2471/2471 [==============================] - 11s 5ms/step - loss: 1.1126e-04\n",
            "Epoch 71/100\n",
            "2471/2471 [==============================] - 10s 4ms/step - loss: 1.0860e-04\n",
            "Epoch 72/100\n",
            "2471/2471 [==============================] - 11s 4ms/step - loss: 1.1412e-04\n",
            "Epoch 73/100\n",
            "2471/2471 [==============================] - 11s 5ms/step - loss: 1.1575e-04\n",
            "Epoch 74/100\n",
            "2471/2471 [==============================] - 11s 5ms/step - loss: 1.1764e-04\n",
            "Epoch 75/100\n",
            "2471/2471 [==============================] - 10s 4ms/step - loss: 1.1102e-04\n",
            "Epoch 76/100\n",
            "2471/2471 [==============================] - 10s 4ms/step - loss: 1.2989e-04\n",
            "Epoch 77/100\n",
            "2471/2471 [==============================] - 11s 5ms/step - loss: 1.1565e-04\n",
            "Epoch 78/100\n",
            "2471/2471 [==============================] - 12s 5ms/step - loss: 1.1247e-04\n",
            "Epoch 79/100\n",
            "2471/2471 [==============================] - 12s 5ms/step - loss: 1.1549e-04\n",
            "Epoch 80/100\n",
            "2471/2471 [==============================] - 11s 4ms/step - loss: 1.1077e-04\n",
            "Epoch 81/100\n",
            "2471/2471 [==============================] - 11s 4ms/step - loss: 1.0710e-04\n",
            "Epoch 82/100\n",
            "2471/2471 [==============================] - 11s 4ms/step - loss: 1.2290e-04\n",
            "Epoch 83/100\n",
            "2471/2471 [==============================] - 12s 5ms/step - loss: 1.1574e-04\n",
            "Epoch 84/100\n",
            "2471/2471 [==============================] - 12s 5ms/step - loss: 1.0998e-04\n",
            "Epoch 85/100\n",
            "2471/2471 [==============================] - 11s 5ms/step - loss: 1.1524e-04\n",
            "Epoch 86/100\n",
            "2471/2471 [==============================] - 11s 4ms/step - loss: 1.1402e-04\n",
            "Epoch 87/100\n",
            "2471/2471 [==============================] - 12s 5ms/step - loss: 1.2086e-04\n",
            "Epoch 88/100\n",
            "2471/2471 [==============================] - 12s 5ms/step - loss: 1.1515e-04\n",
            "Epoch 89/100\n",
            "2471/2471 [==============================] - 12s 5ms/step - loss: 1.1132e-04\n",
            "Epoch 90/100\n",
            "2471/2471 [==============================] - 12s 5ms/step - loss: 1.0728e-04\n",
            "Epoch 91/100\n",
            "2471/2471 [==============================] - 12s 5ms/step - loss: 1.1620e-04\n",
            "Epoch 92/100\n",
            "2471/2471 [==============================] - 11s 4ms/step - loss: 1.0748e-04\n",
            "Epoch 93/100\n",
            "2471/2471 [==============================] - 11s 4ms/step - loss: 1.1019e-04\n",
            "Epoch 94/100\n",
            "2471/2471 [==============================] - 11s 4ms/step - loss: 1.1405e-04\n",
            "Epoch 95/100\n",
            "2471/2471 [==============================] - 11s 5ms/step - loss: 1.0922e-04\n",
            "Epoch 96/100\n",
            "2471/2471 [==============================] - 12s 5ms/step - loss: 1.0337e-04\n",
            "Epoch 97/100\n",
            "2471/2471 [==============================] - 11s 5ms/step - loss: 1.0639e-04\n",
            "Epoch 98/100\n",
            "2471/2471 [==============================] - 12s 5ms/step - loss: 1.1218e-04\n",
            "Epoch 99/100\n",
            "2471/2471 [==============================] - 11s 5ms/step - loss: 1.0667e-04\n",
            "Epoch 100/100\n",
            "2471/2471 [==============================] - 12s 5ms/step - loss: 1.1061e-04\n"
          ]
        },
        {
          "output_type": "execute_result",
          "data": {
            "text/plain": [
              "<keras.src.callbacks.History at 0x793f3c3eb790>"
            ]
          },
          "metadata": {},
          "execution_count": 75
        }
      ]
    },
    {
      "cell_type": "code",
      "source": [
        "# Evaluate the model\n",
        "loss = model.evaluate(X_test, y_test)\n",
        "print(f\"MSE: {loss}\")"
      ],
      "metadata": {
        "colab": {
          "base_uri": "https://localhost:8080/"
        },
        "id": "pJ4TLbX_0dvK",
        "outputId": "22c5ca8e-1ec3-4b5d-9a26-695c5a275033"
      },
      "execution_count": 76,
      "outputs": [
        {
          "output_type": "stream",
          "name": "stdout",
          "text": [
            "614/614 [==============================] - 3s 3ms/step - loss: 7.2785e-07\n",
            "MSE: 7.278540579136461e-07\n"
          ]
        }
      ]
    },
    {
      "cell_type": "code",
      "source": [
        "# Generate predictions on the test data\n",
        "predictions = model.predict(X_test)\n",
        "\n",
        "# Import the mean_squared_error function\n",
        "from sklearn.metrics import mean_squared_error\n",
        "\n",
        "# Compute the mean squared error\n",
        "mse = mean_squared_error(y_test, predictions)\n",
        "print(\"Mean Squared Error:\", mse)\n"
      ],
      "metadata": {
        "colab": {
          "base_uri": "https://localhost:8080/"
        },
        "id": "GX0tYu7C5aRD",
        "outputId": "d1fa29d5-b17a-4fb3-b9d3-e19b51387cf6"
      },
      "execution_count": 78,
      "outputs": [
        {
          "output_type": "stream",
          "name": "stdout",
          "text": [
            "614/614 [==============================] - 3s 3ms/step\n",
            "Mean Squared Error: 7.278544186028899e-07\n"
          ]
        }
      ]
    },
    {
      "cell_type": "code",
      "source": [
        "import matplotlib.pyplot as plt\n",
        "\n",
        "# ... Your existing code for data preparation, model training, and predictions ...\n",
        "# Plot the actual and predicted values\n",
        "plt.plot(y_test, label='Actual')\n",
        "plt.plot(predictions, label='Predicted')\n",
        "\n",
        "# Add a title and labels\n",
        "plt.title('Bitcoin Price Prediction')\n",
        "plt.xlabel('Time')\n",
        "plt.ylabel('Price')\n",
        "\n",
        "# Add a legend\n",
        "plt.legend()\n",
        "\n",
        "# Calculate MSE and format it to 4 decimal places\n",
        "mse = float(mean_squared_error(y_test, predictions))\n",
        "mse_formatted = \"{:.4f}\".format(mse)\n",
        "\n",
        "# Add a text box with the MSE\n",
        "plt.text(0.5, 0.5, f\"MSE = {mse_formatted}\", transform=plt.gca().transAxes, ha='center', va='center', fontsize=12, bbox={'facecolor': 'white', 'alpha': 0.5, 'pad': 10})\n",
        "\n",
        "# Show the plot\n",
        "plt.show()\n",
        "\n"
      ],
      "metadata": {
        "colab": {
          "base_uri": "https://localhost:8080/",
          "height": 472
        },
        "id": "4Qma8RO7_jLy",
        "outputId": "e6195945-861a-402a-c952-7b1aa47737fa"
      },
      "execution_count": 93,
      "outputs": [
        {
          "output_type": "display_data",
          "data": {
            "text/plain": [
              "<Figure size 640x480 with 1 Axes>"
            ],
            "image/png": "[encoded data removed]"
          },
          "metadata": {}
        }
      ]
    },
    {
      "cell_type": "code",
      "source": [
        "# Calculate Root Mean Squared Error (RMSE)\n",
        "rmse = np.sqrt(mse)\n",
        "print(\"Root Mean Squared Error (RMSE):\", rmse)"
      ],
      "metadata": {
        "colab": {
          "base_uri": "https://localhost:8080/"
        },
        "id": "4vmRuzPE5fLf",
        "outputId": "12fd2245-2318-4f1d-af28-9198ad3e2f66"
      },
      "execution_count": 79,
      "outputs": [
        {
          "output_type": "stream",
          "name": "stdout",
          "text": [
            "Root Mean Squared Error (RMSE): 0.0008531438440280102\n"
          ]
        }
      ]
    },
    {
      "cell_type": "code",
      "source": [
        "import matplotlib.pyplot as plt\n",
        "from sklearn.metrics import mean_squared_error\n",
        "\n",
        "# ... Your existing code for data preparation, model training, and predictions ...\n",
        "# Calculate RMSE and format it to 4 decimal places\n",
        "rmse = float(np.sqrt(mean_squared_error(y_test, predictions)))\n",
        "rmse_formatted = \"{:.4f}\".format(rmse)\n",
        "\n",
        "# Plot the actual and predicted values\n",
        "plt.plot(y_test, label='Actual')\n",
        "plt.plot(predictions, label='Predicted')\n",
        "\n",
        "# Add a title and labels\n",
        "plt.title('Bitcoin Price Prediction')\n",
        "plt.xlabel('Time')\n",
        "plt.ylabel('Price')\n",
        "\n",
        "# Add a legend\n",
        "plt.legend()\n",
        "\n",
        "# Add a text box with the RMSE\n",
        "plt.text(0.5, 0.5, f\"RMSE = {rmse_formatted}\", transform=plt.gca().transAxes, ha='center', va='center', fontsize=12, bbox={'facecolor': 'white', 'alpha': 0.5, 'pad': 10})\n",
        "\n",
        "# Show the plot\n",
        "plt.show()\n"
      ],
      "metadata": {
        "colab": {
          "base_uri": "https://localhost:8080/",
          "height": 472
        },
        "id": "20-hvTTU_unz",
        "outputId": "c53cb2ee-dd40-4b37-f927-13af28c3c44f"
      },
      "execution_count": 94,
      "outputs": [
        {
          "output_type": "display_data",
          "data": {
            "text/plain": [
              "<Figure size 640x480 with 1 Axes>"
            ],
            "image/png": "[encoded data removed]"
          },
          "metadata": {}
        }
      ]
    },
    {
      "cell_type": "code",
      "source": [
        "mae = np.mean(np.abs(y_test - predictions))\n",
        "print(\"Mean Absolute Error (MAE):\", mae)"
      ],
      "metadata": {
        "colab": {
          "base_uri": "https://localhost:8080/"
        },
        "id": "SEPUbCdV6w6G",
        "outputId": "fc77de26-7fec-4fc6-86cc-e1f4f4b41487"
      },
      "execution_count": 80,
      "outputs": [
        {
          "output_type": "stream",
          "name": "stdout",
          "text": [
            "Mean Absolute Error (MAE): 0.0007886112903906658\n"
          ]
        }
      ]
    },
    {
      "cell_type": "code",
      "source": [
        "import matplotlib.pyplot as plt\n",
        "import numpy as np\n",
        "\n",
        "# ... Your existing code for data preparation, model training, and predictions ...\n",
        "# Calculate MAE and format it to 4 decimal places\n",
        "mae = float(np.mean(np.abs(y_test - predictions)))\n",
        "mae_formatted = \"{:.4f}\".format(mae)\n",
        "\n",
        "# Plot the actual and predicted values\n",
        "plt.plot(y_test, label='Actual')\n",
        "plt.plot(predictions, label='Predicted')\n",
        "\n",
        "# Add a title and labels\n",
        "plt.title('Bitcoin Price Prediction')\n",
        "plt.xlabel('Time')\n",
        "plt.ylabel('Price')\n",
        "\n",
        "# Add a legend\n",
        "plt.legend()\n",
        "\n",
        "# Add a text box with the MAE\n",
        "plt.text(0.5, 0.5, f\"MAE = {mae_formatted}\", transform=plt.gca().transAxes, ha='center', va='center', fontsize=12, bbox={'facecolor': 'white', 'alpha': 0.5, 'pad': 10})\n",
        "\n",
        "# Show the plot\n",
        "plt.show()\n"
      ],
      "metadata": {
        "colab": {
          "base_uri": "https://localhost:8080/",
          "height": 472
        },
        "id": "9BTQrBZdAAaT",
        "outputId": "5f5bdf70-0459-4e72-af1f-19ac653832c0"
      },
      "execution_count": 95,
      "outputs": [
        {
          "output_type": "display_data",
          "data": {
            "text/plain": [
              "<Figure size 640x480 with 1 Axes>"
            ],
            "image/png": "[encoded data removed]"
          },
          "metadata": {}
        }
      ]
    },
    {
      "cell_type": "code",
      "source": [
        "def calculate_mape(actual, predicted):\n",
        "\n",
        "\n",
        "  mape_values = []\n",
        "  for i in range(len(actual)):\n",
        "    if actual[i] != 0:\n",
        "      mape_values.append(abs((actual[i] - predicted[i]) / actual[i]))\n",
        "    else:\n",
        "      mape_values.append(0)\n",
        "\n",
        "  return sum(mape_values) / len(mape_values) * 100\n",
        "\n",
        "# Example usage\n",
        "actual_values = [10, 20, 30, 40, 50]\n",
        "predicted_values = [12, 18, 29, 42, 55]\n",
        "\n",
        "mape = calculate_mape(actual_values, predicted_values)\n",
        "\n",
        "print(\"MAPE:\", mape)"
      ],
      "metadata": {
        "colab": {
          "base_uri": "https://localhost:8080/"
        },
        "id": "jIpD2UbJ77T6",
        "outputId": "0367daa7-b457-4832-c349-9a33d93acaae"
      },
      "execution_count": 83,
      "outputs": [
        {
          "output_type": "stream",
          "name": "stdout",
          "text": [
            "MAPE: 9.666666666666668\n"
          ]
        }
      ]
    },
    {
      "cell_type": "code",
      "source": [
        "from sklearn.metrics import r2_score\n",
        "r2_score = r2_score(y_test, predictions)\n",
        "print(\"R-squared (R2) score:\", r2_score)"
      ],
      "metadata": {
        "colab": {
          "base_uri": "https://localhost:8080/"
        },
        "id": "H0Hb-LQT65bt",
        "outputId": "43563422-a4b4-4350-dcee-27861419ce94"
      },
      "execution_count": 84,
      "outputs": [
        {
          "output_type": "stream",
          "name": "stdout",
          "text": [
            "R-squared (R2) score: 0.9148516462619186\n"
          ]
        }
      ]
    },
    {
      "cell_type": "code",
      "source": [
        "mse = float(mse)\n",
        "mae = float(mae)\n",
        "rmse = float(rmse)\n",
        "r2 = float(r2)\n",
        "mape = float(mape)\n"
      ],
      "metadata": {
        "colab": {
          "base_uri": "https://localhost:8080/"
        },
        "id": "WKKlQVyR-u4L",
        "outputId": "b7b4da48-ff09-4cdb-db0e-eb1ebbf6718d"
      },
      "execution_count": 90,
      "outputs": [
        {
          "output_type": "stream",
          "name": "stderr",
          "text": [
            "<ipython-input-90-99b3aba2bc11>:5: DeprecationWarning: Conversion of an array with ndim > 0 to a scalar is deprecated, and will error in future. Ensure you extract a single element from your array before performing this operation. (Deprecated NumPy 1.25.)\n",
            "  mape = float(mape)\n"
          ]
        }
      ]
    },
    {
      "cell_type": "code",
      "source": [
        "import matplotlib.pyplot as plt\n",
        "from sklearn.metrics import r2_score, mean_absolute_error, mean_squared_error\n",
        "\n",
        "# Visualize results\n",
        "plt.figure(figsize=(10,6))\n",
        "\n",
        "# Plot the actual values\n",
        "plt.plot(y_test, color='blue', label='Actual Price')\n",
        "\n",
        "# Plot the predicted values\n",
        "plt.plot(predictions, color='red', label='Predicted Price')\n",
        "\n",
        "# Add a title and labels\n",
        "plt.title('Bitcoin Price Prediction')\n",
        "plt.xlabel('Time')\n",
        "plt.ylabel('Price')\n",
        "\n",
        "# Add a legend\n",
        "plt.legend()\n",
        "\n",
        "# Calculate and display performance metrics\n",
        "mse = mean_squared_error(y_test, predictions)\n",
        "mae = mean_absolute_error(y_test, predictions)\n",
        "rmse = np.sqrt(mean_squared_error(y_test, predictions))\n",
        "r2 = r2_score(y_test, predictions)\n",
        "\n",
        "mape = calculate_mape(y_test, predictions)\n",
        "\n",
        "plt.text(0.5, 0.5, f\"MSE = {mse:.4f}\\nMAE = {mae:.4f}\\nRMSE = {rmse:.4f}\\nR2 = {r2:.4f}\\nMAPE = {mape:.4f}%\",\n",
        "         transform=plt.gca().transAxes, ha='center', va='center', fontsize=12, bbox={'facecolor': 'white', 'alpha': 0.5, 'pad': 10})\n",
        "\n",
        "# Show the plot\n",
        "plt.show()\n"
      ],
      "metadata": {
        "colab": {
          "base_uri": "https://localhost:8080/",
          "height": 647
        },
        "id": "RsM2Ougs8bdz",
        "outputId": "86061ce0-d976-4f9d-fdda-a104ed04b9a4"
      },
      "execution_count": 97,
      "outputs": [
        {
          "output_type": "error",
          "ename": "TypeError",
          "evalue": "unsupported format string passed to numpy.ndarray.__format__",
          "traceback": [
            "\u001b[0;31m---------------------------------------------------------------------------\u001b[0m",
            "\u001b[0;31mTypeError\u001b[0m                                 Traceback (most recent call last)",
            "\u001b[0;32m<ipython-input-97-b2dccd463080>\u001b[0m in \u001b[0;36m<cell line: 29>\u001b[0;34m()\u001b[0m\n\u001b[1;32m     27\u001b[0m \u001b[0mmape\u001b[0m \u001b[0;34m=\u001b[0m \u001b[0mcalculate_mape\u001b[0m\u001b[0;34m(\u001b[0m\u001b[0my_test\u001b[0m\u001b[0;34m,\u001b[0m \u001b[0mpredictions\u001b[0m\u001b[0;34m)\u001b[0m\u001b[0;34m\u001b[0m\u001b[0;34m\u001b[0m\u001b[0m\n\u001b[1;32m     28\u001b[0m \u001b[0;34m\u001b[0m\u001b[0m\n\u001b[0;32m---> 29\u001b[0;31m plt.text(0.5, 0.5, f\"MSE = {mse:.4f}\\nMAE = {mae:.4f}\\nRMSE = {rmse:.4f}\\nR2 = {r2:.4f}\\nMAPE = {mape:.4f}%\",\n\u001b[0m\u001b[1;32m     30\u001b[0m          transform=plt.gca().transAxes, ha='center', va='center', fontsize=12, bbox={'facecolor': 'white', 'alpha': 0.5, 'pad': 10})\n\u001b[1;32m     31\u001b[0m \u001b[0;34m\u001b[0m\u001b[0m\n",
            "\u001b[0;31mTypeError\u001b[0m: unsupported format string passed to numpy.ndarray.__format__"
          ]
        },
        {
          "output_type": "display_data",
          "data": {
            "text/plain": [
              "<Figure size 1000x600 with 1 Axes>"
            ],
            "image/png": "[encoded data removed]"
          },
          "metadata": {}
        }
      ]
    },
    {
      "cell_type": "code",
      "source": [
        "import matplotlib.pyplot as plt\n",
        "import numpy as np\n",
        "from sklearn.metrics import mean_squared_error, mean_absolute_error, r2_score\n",
        "\n",
        "# ... Your existing code ...\n",
        "mse = float(mean_squared_error(y_test, predictions))\n",
        "mae = float(mean_absolute_error(y_test, predictions))\n",
        "rmse = float(np.sqrt(mean_squared_error(y_test, predictions)))\n",
        "r2 = float(r2_score(y_test, predictions))\n",
        "\n",
        "plt.text(0.5, 0.5, f\"MSE = {mse:.4f}\\nMAE = {mae:.4f}\\nRMSE = {rmse:.4f}\\nR2 = {r2:.4f}\",\n",
        "         transform=plt.gca().transAxes, ha='center', va='center', fontsize=12, bbox={'facecolor': 'white', 'alpha': 0.5, 'pad': 10})\n",
        "\n",
        "plt.show()\n"
      ],
      "metadata": {
        "colab": {
          "base_uri": "https://localhost:8080/",
          "height": 435
        },
        "id": "X0HIy6LL-DvT",
        "outputId": "71ce584f-bb23-4101-8e5d-2f5ee46eacc2"
      },
      "execution_count": 88,
      "outputs": [
        {
          "output_type": "display_data",
          "data": {
            "text/plain": [
              "<Figure size 640x480 with 1 Axes>"
            ],
            "image/png": "[encoded data removed]"
          },
          "metadata": {}
        }
      ]
    },
    {
      "cell_type": "code",
      "source": [],
      "metadata": {
        "id": "HiXC518R-SNd"
      },
      "execution_count": null,
      "outputs": []
    }
  ]
}